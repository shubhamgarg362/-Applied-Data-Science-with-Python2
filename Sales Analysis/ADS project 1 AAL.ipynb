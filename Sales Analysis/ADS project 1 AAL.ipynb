{
 "cells": [
  {
   "cell_type": "markdown",
   "id": "efd530a2-2800-4fc9-9ca3-ba5760dc1c22",
   "metadata": {},
   "source": [
    "1.\tData Wrangling\n",
    "●\tEnsure that the data is clean and that there is no missing or incorrect data. \n",
    "○\tInspect the data manually for missing/incorrect data using the functions isna(), and notna().\n",
    "●\tBased on your knowledge of Data Analytics, include your recommendations for treating missing data and incorrect data. (dropping the null values or filling them).\n",
    "●\tSelect an appropriate Data Wrangling approach —  data standardization or data normalization. Perform the standardization or normalization and present the data. (Normalization is the preferred approach for this problem.)\n",
    "●\tShare your recommendation on the usage of the groupby() function for data chunking or merging.\n"
   ]
  },
  {
   "cell_type": "code",
   "execution_count": 1,
   "id": "a188ddb2-0c6a-4ad3-85da-4c7eccc025dd",
   "metadata": {},
   "outputs": [],
   "source": [
    "import numpy as np\n",
    "import pandas as pd\n",
    "import matplotlib.pyplot as plt\n",
    "%matplotlib inline\n",
    "import seaborn as sns\n",
    "import warnings\n",
    "warnings.filterwarnings('ignore')\n"
   ]
  },
  {
   "cell_type": "code",
   "execution_count": 2,
   "id": "6818abc8-28fd-485f-8650-b6117216fd02",
   "metadata": {},
   "outputs": [],
   "source": [
    "df = pd.read_csv(r\"C:\\Users\\DELL\\Downloads\\1709645788_ausapparalsales4thqrt2020\\AusApparalSales4thQrt2020.csv\")"
   ]
  },
  {
   "cell_type": "code",
   "execution_count": 3,
   "id": "a19cfc2e-4f1a-44e1-9b07-318a4916fa29",
   "metadata": {},
   "outputs": [
    {
     "data": {
      "text/html": [
       "<div>\n",
       "<style scoped>\n",
       "    .dataframe tbody tr th:only-of-type {\n",
       "        vertical-align: middle;\n",
       "    }\n",
       "\n",
       "    .dataframe tbody tr th {\n",
       "        vertical-align: top;\n",
       "    }\n",
       "\n",
       "    .dataframe thead th {\n",
       "        text-align: right;\n",
       "    }\n",
       "</style>\n",
       "<table border=\"1\" class=\"dataframe\">\n",
       "  <thead>\n",
       "    <tr style=\"text-align: right;\">\n",
       "      <th></th>\n",
       "      <th>Date</th>\n",
       "      <th>Time</th>\n",
       "      <th>State</th>\n",
       "      <th>Group</th>\n",
       "      <th>Unit</th>\n",
       "      <th>Sales</th>\n",
       "    </tr>\n",
       "  </thead>\n",
       "  <tbody>\n",
       "    <tr>\n",
       "      <th>0</th>\n",
       "      <td>1-Oct-2020</td>\n",
       "      <td>Morning</td>\n",
       "      <td>WA</td>\n",
       "      <td>Kids</td>\n",
       "      <td>8</td>\n",
       "      <td>20000</td>\n",
       "    </tr>\n",
       "    <tr>\n",
       "      <th>1</th>\n",
       "      <td>1-Oct-2020</td>\n",
       "      <td>Morning</td>\n",
       "      <td>WA</td>\n",
       "      <td>Men</td>\n",
       "      <td>8</td>\n",
       "      <td>20000</td>\n",
       "    </tr>\n",
       "    <tr>\n",
       "      <th>2</th>\n",
       "      <td>1-Oct-2020</td>\n",
       "      <td>Morning</td>\n",
       "      <td>WA</td>\n",
       "      <td>Women</td>\n",
       "      <td>4</td>\n",
       "      <td>10000</td>\n",
       "    </tr>\n",
       "    <tr>\n",
       "      <th>3</th>\n",
       "      <td>1-Oct-2020</td>\n",
       "      <td>Morning</td>\n",
       "      <td>WA</td>\n",
       "      <td>Seniors</td>\n",
       "      <td>15</td>\n",
       "      <td>37500</td>\n",
       "    </tr>\n",
       "    <tr>\n",
       "      <th>4</th>\n",
       "      <td>1-Oct-2020</td>\n",
       "      <td>Afternoon</td>\n",
       "      <td>WA</td>\n",
       "      <td>Kids</td>\n",
       "      <td>3</td>\n",
       "      <td>7500</td>\n",
       "    </tr>\n",
       "  </tbody>\n",
       "</table>\n",
       "</div>"
      ],
      "text/plain": [
       "         Date        Time State     Group  Unit  Sales\n",
       "0  1-Oct-2020     Morning    WA      Kids     8  20000\n",
       "1  1-Oct-2020     Morning    WA       Men     8  20000\n",
       "2  1-Oct-2020     Morning    WA     Women     4  10000\n",
       "3  1-Oct-2020     Morning    WA   Seniors    15  37500\n",
       "4  1-Oct-2020   Afternoon    WA      Kids     3   7500"
      ]
     },
     "execution_count": 3,
     "metadata": {},
     "output_type": "execute_result"
    }
   ],
   "source": [
    "df.head()"
   ]
  },
  {
   "cell_type": "code",
   "execution_count": 4,
   "id": "db166213-89c9-43ed-a5b0-5aeb07887903",
   "metadata": {},
   "outputs": [
    {
     "data": {
      "text/plain": [
       "Date     0\n",
       "Time     0\n",
       "State    0\n",
       "Group    0\n",
       "Unit     0\n",
       "Sales    0\n",
       "dtype: int64"
      ]
     },
     "execution_count": 4,
     "metadata": {},
     "output_type": "execute_result"
    }
   ],
   "source": [
    "df.isna().sum()"
   ]
  },
  {
   "cell_type": "code",
   "execution_count": 5,
   "id": "c6b49a24-af2b-4c00-835b-6577f327642f",
   "metadata": {},
   "outputs": [
    {
     "name": "stdout",
     "output_type": "stream",
     "text": [
      "<class 'pandas.core.frame.DataFrame'>\n",
      "RangeIndex: 7560 entries, 0 to 7559\n",
      "Data columns (total 6 columns):\n",
      " #   Column  Non-Null Count  Dtype \n",
      "---  ------  --------------  ----- \n",
      " 0   Date    7560 non-null   object\n",
      " 1   Time    7560 non-null   object\n",
      " 2   State   7560 non-null   object\n",
      " 3   Group   7560 non-null   object\n",
      " 4   Unit    7560 non-null   int64 \n",
      " 5   Sales   7560 non-null   int64 \n",
      "dtypes: int64(2), object(4)\n",
      "memory usage: 354.5+ KB\n"
     ]
    }
   ],
   "source": [
    "df.info()"
   ]
  },
  {
   "cell_type": "code",
   "execution_count": 6,
   "id": "06537622-8eb5-46b7-a866-377033e007b0",
   "metadata": {},
   "outputs": [
    {
     "data": {
      "text/plain": [
       "(7560, 6)"
      ]
     },
     "execution_count": 6,
     "metadata": {},
     "output_type": "execute_result"
    }
   ],
   "source": [
    "df.shape"
   ]
  },
  {
   "cell_type": "code",
   "execution_count": 7,
   "id": "e590ccd8-f2ca-45cc-8165-38b70c1fe003",
   "metadata": {},
   "outputs": [
    {
     "data": {
      "text/plain": [
       "45360"
      ]
     },
     "execution_count": 7,
     "metadata": {},
     "output_type": "execute_result"
    }
   ],
   "source": [
    "df.size"
   ]
  },
  {
   "cell_type": "code",
   "execution_count": 8,
   "id": "a695bc29-3504-454e-85ca-b7c4b5699a35",
   "metadata": {},
   "outputs": [
    {
     "data": {
      "text/plain": [
       "Date     7560\n",
       "Time     7560\n",
       "State    7560\n",
       "Group    7560\n",
       "Unit     7560\n",
       "Sales    7560\n",
       "dtype: int64"
      ]
     },
     "execution_count": 8,
     "metadata": {},
     "output_type": "execute_result"
    }
   ],
   "source": [
    "df.notna().sum()"
   ]
  },
  {
   "cell_type": "code",
   "execution_count": 9,
   "id": "fe9051b0-e28a-40d6-b089-3d9a808bfb44",
   "metadata": {},
   "outputs": [
    {
     "data": {
      "text/plain": [
       "array([' Kids', ' Men', ' Women', ' Seniors'], dtype=object)"
      ]
     },
     "execution_count": 9,
     "metadata": {},
     "output_type": "execute_result"
    }
   ],
   "source": [
    "df['Group'].unique()"
   ]
  },
  {
   "cell_type": "code",
   "execution_count": 10,
   "id": "d12bdc79-caf8-4720-a632-2b01595ecf4a",
   "metadata": {},
   "outputs": [
    {
     "data": {
      "text/plain": [
       "array([' WA', ' NT', ' SA', ' VIC', ' QLD', ' NSW', ' TAS'], dtype=object)"
      ]
     },
     "execution_count": 10,
     "metadata": {},
     "output_type": "execute_result"
    }
   ],
   "source": [
    "df['State'].unique()"
   ]
  },
  {
   "cell_type": "code",
   "execution_count": 11,
   "id": "14ebc1c5-3a17-4a5c-b30b-d2c9a9b14982",
   "metadata": {},
   "outputs": [
    {
     "data": {
      "text/plain": [
       "array([ 8,  4, 15,  3, 10, 11, 13,  5,  6,  9, 14, 12, 16, 28, 21, 29, 22,\n",
       "       32, 49, 36, 34, 26, 31, 27, 43, 50, 44, 20, 18, 19, 39, 17, 23, 40,\n",
       "       30,  7, 33, 42, 46, 48, 37, 25, 35, 45, 47, 38, 41, 24,  2, 51, 63,\n",
       "       62, 52, 56, 59, 64, 53, 61, 54, 60, 55, 65, 57, 58], dtype=int64)"
      ]
     },
     "execution_count": 11,
     "metadata": {},
     "output_type": "execute_result"
    }
   ],
   "source": [
    "df['Unit'].unique()"
   ]
  },
  {
   "cell_type": "code",
   "execution_count": 12,
   "id": "b0d3f413-5b40-4b79-b2c1-51b1e463cb98",
   "metadata": {},
   "outputs": [
    {
     "data": {
      "text/plain": [
       "array([ 20000,  10000,  37500,   7500,  25000,  27500,  32500,  12500,\n",
       "        15000,  22500,  35000,  30000,  40000,  70000,  52500,  72500,\n",
       "        55000,  80000, 122500,  90000,  85000,  65000,  77500,  67500,\n",
       "       107500, 125000, 110000,  50000,  45000,  47500,  97500,  42500,\n",
       "        57500, 100000,  75000,  17500,  82500, 105000, 115000, 120000,\n",
       "        92500,  62500,  87500, 112500, 117500,  95000, 102500,  60000,\n",
       "         5000, 127500, 157500, 155000, 130000, 140000, 147500, 160000,\n",
       "       132500, 152500, 135000, 150000, 137500, 162500, 142500, 145000],\n",
       "      dtype=int64)"
      ]
     },
     "execution_count": 12,
     "metadata": {},
     "output_type": "execute_result"
    }
   ],
   "source": [
    "df['Sales'].unique()"
   ]
  },
  {
   "cell_type": "code",
   "execution_count": 13,
   "id": "4dbe88ea-ead3-4d13-8afe-19c6ef8014c5",
   "metadata": {},
   "outputs": [],
   "source": [
    "df['Date'] = pd.to_datetime(df['Date'])"
   ]
  },
  {
   "cell_type": "code",
   "execution_count": 14,
   "id": "cf19ec34-5da5-484b-a813-3bb7d58aafc5",
   "metadata": {},
   "outputs": [],
   "source": [
    "df['Unit'] = df['Unit'].astype(int)"
   ]
  },
  {
   "cell_type": "code",
   "execution_count": 15,
   "id": "1bfd140e-3cb3-4805-b44a-0a52b0162dff",
   "metadata": {},
   "outputs": [],
   "source": [
    "df['Sales'] = df['Sales'].astype(int)"
   ]
  },
  {
   "cell_type": "code",
   "execution_count": 16,
   "id": "b0645ebd-c016-4776-85c2-bf6164debc43",
   "metadata": {},
   "outputs": [
    {
     "name": "stdout",
     "output_type": "stream",
     "text": [
      "<class 'pandas.core.frame.DataFrame'>\n",
      "RangeIndex: 7560 entries, 0 to 7559\n",
      "Data columns (total 6 columns):\n",
      " #   Column  Non-Null Count  Dtype         \n",
      "---  ------  --------------  -----         \n",
      " 0   Date    7560 non-null   datetime64[ns]\n",
      " 1   Time    7560 non-null   object        \n",
      " 2   State   7560 non-null   object        \n",
      " 3   Group   7560 non-null   object        \n",
      " 4   Unit    7560 non-null   int32         \n",
      " 5   Sales   7560 non-null   int32         \n",
      "dtypes: datetime64[ns](1), int32(2), object(3)\n",
      "memory usage: 295.4+ KB\n"
     ]
    }
   ],
   "source": [
    "df.info()"
   ]
  },
  {
   "cell_type": "code",
   "execution_count": 17,
   "id": "c163932e-3af1-4143-b339-2839f6c5f5b8",
   "metadata": {},
   "outputs": [
    {
     "data": {
      "text/plain": [
       "Date     0\n",
       "Time     0\n",
       "State    0\n",
       "Group    0\n",
       "Unit     0\n",
       "Sales    0\n",
       "dtype: int64"
      ]
     },
     "execution_count": 17,
     "metadata": {},
     "output_type": "execute_result"
    }
   ],
   "source": [
    "df.isnull().sum()"
   ]
  },
  {
   "cell_type": "markdown",
   "id": "ab0f0252-663f-4989-b67e-4545183cd557",
   "metadata": {},
   "source": [
    "Suggestion for missing and incorrect data\n",
    "1. missing data can be filled usinf ffill , bfill , fill(mean,median,mode) , df.bfill() , df.ffill(), df.fillna()\n",
    "2. if missing data is too low we can also drop it. df.drop()\n",
    "3. if there is missing data over 40% in a column we can drop the column.\n",
    "4. for incorrect data there is outlier treatment and replace function , df.replace()"
   ]
  },
  {
   "cell_type": "code",
   "execution_count": 18,
   "id": "cfaedf8a-e2b3-4a11-a5ea-cbd54a4303e0",
   "metadata": {},
   "outputs": [
    {
     "data": {
      "text/html": [
       "<div>\n",
       "<style scoped>\n",
       "    .dataframe tbody tr th:only-of-type {\n",
       "        vertical-align: middle;\n",
       "    }\n",
       "\n",
       "    .dataframe tbody tr th {\n",
       "        vertical-align: top;\n",
       "    }\n",
       "\n",
       "    .dataframe thead th {\n",
       "        text-align: right;\n",
       "    }\n",
       "</style>\n",
       "<table border=\"1\" class=\"dataframe\">\n",
       "  <thead>\n",
       "    <tr style=\"text-align: right;\">\n",
       "      <th></th>\n",
       "      <th>Date</th>\n",
       "      <th>Time</th>\n",
       "      <th>State</th>\n",
       "      <th>Group</th>\n",
       "      <th>Unit</th>\n",
       "      <th>Sales</th>\n",
       "    </tr>\n",
       "  </thead>\n",
       "  <tbody>\n",
       "    <tr>\n",
       "      <th>0</th>\n",
       "      <td>2020-10-01</td>\n",
       "      <td>Morning</td>\n",
       "      <td>WA</td>\n",
       "      <td>Kids</td>\n",
       "      <td>8</td>\n",
       "      <td>20000</td>\n",
       "    </tr>\n",
       "    <tr>\n",
       "      <th>1</th>\n",
       "      <td>2020-10-01</td>\n",
       "      <td>Morning</td>\n",
       "      <td>WA</td>\n",
       "      <td>Men</td>\n",
       "      <td>8</td>\n",
       "      <td>20000</td>\n",
       "    </tr>\n",
       "    <tr>\n",
       "      <th>2</th>\n",
       "      <td>2020-10-01</td>\n",
       "      <td>Morning</td>\n",
       "      <td>WA</td>\n",
       "      <td>Women</td>\n",
       "      <td>4</td>\n",
       "      <td>10000</td>\n",
       "    </tr>\n",
       "    <tr>\n",
       "      <th>3</th>\n",
       "      <td>2020-10-01</td>\n",
       "      <td>Morning</td>\n",
       "      <td>WA</td>\n",
       "      <td>Seniors</td>\n",
       "      <td>15</td>\n",
       "      <td>37500</td>\n",
       "    </tr>\n",
       "    <tr>\n",
       "      <th>4</th>\n",
       "      <td>2020-10-01</td>\n",
       "      <td>Afternoon</td>\n",
       "      <td>WA</td>\n",
       "      <td>Kids</td>\n",
       "      <td>3</td>\n",
       "      <td>7500</td>\n",
       "    </tr>\n",
       "    <tr>\n",
       "      <th>...</th>\n",
       "      <td>...</td>\n",
       "      <td>...</td>\n",
       "      <td>...</td>\n",
       "      <td>...</td>\n",
       "      <td>...</td>\n",
       "      <td>...</td>\n",
       "    </tr>\n",
       "    <tr>\n",
       "      <th>7555</th>\n",
       "      <td>2020-12-30</td>\n",
       "      <td>Afternoon</td>\n",
       "      <td>TAS</td>\n",
       "      <td>Seniors</td>\n",
       "      <td>14</td>\n",
       "      <td>35000</td>\n",
       "    </tr>\n",
       "    <tr>\n",
       "      <th>7556</th>\n",
       "      <td>2020-12-30</td>\n",
       "      <td>Evening</td>\n",
       "      <td>TAS</td>\n",
       "      <td>Kids</td>\n",
       "      <td>15</td>\n",
       "      <td>37500</td>\n",
       "    </tr>\n",
       "    <tr>\n",
       "      <th>7557</th>\n",
       "      <td>2020-12-30</td>\n",
       "      <td>Evening</td>\n",
       "      <td>TAS</td>\n",
       "      <td>Men</td>\n",
       "      <td>15</td>\n",
       "      <td>37500</td>\n",
       "    </tr>\n",
       "    <tr>\n",
       "      <th>7558</th>\n",
       "      <td>2020-12-30</td>\n",
       "      <td>Evening</td>\n",
       "      <td>TAS</td>\n",
       "      <td>Women</td>\n",
       "      <td>11</td>\n",
       "      <td>27500</td>\n",
       "    </tr>\n",
       "    <tr>\n",
       "      <th>7559</th>\n",
       "      <td>2020-12-30</td>\n",
       "      <td>Evening</td>\n",
       "      <td>TAS</td>\n",
       "      <td>Seniors</td>\n",
       "      <td>13</td>\n",
       "      <td>32500</td>\n",
       "    </tr>\n",
       "  </tbody>\n",
       "</table>\n",
       "<p>7560 rows × 6 columns</p>\n",
       "</div>"
      ],
      "text/plain": [
       "           Date        Time State     Group  Unit  Sales\n",
       "0    2020-10-01     Morning    WA      Kids     8  20000\n",
       "1    2020-10-01     Morning    WA       Men     8  20000\n",
       "2    2020-10-01     Morning    WA     Women     4  10000\n",
       "3    2020-10-01     Morning    WA   Seniors    15  37500\n",
       "4    2020-10-01   Afternoon    WA      Kids     3   7500\n",
       "...         ...         ...   ...       ...   ...    ...\n",
       "7555 2020-12-30   Afternoon   TAS   Seniors    14  35000\n",
       "7556 2020-12-30     Evening   TAS      Kids    15  37500\n",
       "7557 2020-12-30     Evening   TAS       Men    15  37500\n",
       "7558 2020-12-30     Evening   TAS     Women    11  27500\n",
       "7559 2020-12-30     Evening   TAS   Seniors    13  32500\n",
       "\n",
       "[7560 rows x 6 columns]"
      ]
     },
     "execution_count": 18,
     "metadata": {},
     "output_type": "execute_result"
    }
   ],
   "source": [
    "df.ffill()"
   ]
  },
  {
   "cell_type": "code",
   "execution_count": 19,
   "id": "d20eebd9-831f-4710-9e65-45c2d784a7ac",
   "metadata": {},
   "outputs": [
    {
     "data": {
      "text/html": [
       "<div>\n",
       "<style scoped>\n",
       "    .dataframe tbody tr th:only-of-type {\n",
       "        vertical-align: middle;\n",
       "    }\n",
       "\n",
       "    .dataframe tbody tr th {\n",
       "        vertical-align: top;\n",
       "    }\n",
       "\n",
       "    .dataframe thead th {\n",
       "        text-align: right;\n",
       "    }\n",
       "</style>\n",
       "<table border=\"1\" class=\"dataframe\">\n",
       "  <thead>\n",
       "    <tr style=\"text-align: right;\">\n",
       "      <th></th>\n",
       "      <th>Date</th>\n",
       "      <th>Time</th>\n",
       "      <th>State</th>\n",
       "      <th>Group</th>\n",
       "      <th>Unit</th>\n",
       "      <th>Sales</th>\n",
       "    </tr>\n",
       "  </thead>\n",
       "  <tbody>\n",
       "    <tr>\n",
       "      <th>0</th>\n",
       "      <td>2020-10-01</td>\n",
       "      <td>Morning</td>\n",
       "      <td>WA</td>\n",
       "      <td>Kids</td>\n",
       "      <td>8</td>\n",
       "      <td>20000</td>\n",
       "    </tr>\n",
       "    <tr>\n",
       "      <th>1</th>\n",
       "      <td>2020-10-01</td>\n",
       "      <td>Morning</td>\n",
       "      <td>WA</td>\n",
       "      <td>Men</td>\n",
       "      <td>8</td>\n",
       "      <td>20000</td>\n",
       "    </tr>\n",
       "    <tr>\n",
       "      <th>2</th>\n",
       "      <td>2020-10-01</td>\n",
       "      <td>Morning</td>\n",
       "      <td>WA</td>\n",
       "      <td>Women</td>\n",
       "      <td>4</td>\n",
       "      <td>10000</td>\n",
       "    </tr>\n",
       "    <tr>\n",
       "      <th>3</th>\n",
       "      <td>2020-10-01</td>\n",
       "      <td>Morning</td>\n",
       "      <td>WA</td>\n",
       "      <td>Seniors</td>\n",
       "      <td>15</td>\n",
       "      <td>37500</td>\n",
       "    </tr>\n",
       "    <tr>\n",
       "      <th>4</th>\n",
       "      <td>2020-10-01</td>\n",
       "      <td>Afternoon</td>\n",
       "      <td>WA</td>\n",
       "      <td>Kids</td>\n",
       "      <td>3</td>\n",
       "      <td>7500</td>\n",
       "    </tr>\n",
       "    <tr>\n",
       "      <th>...</th>\n",
       "      <td>...</td>\n",
       "      <td>...</td>\n",
       "      <td>...</td>\n",
       "      <td>...</td>\n",
       "      <td>...</td>\n",
       "      <td>...</td>\n",
       "    </tr>\n",
       "    <tr>\n",
       "      <th>7555</th>\n",
       "      <td>2020-12-30</td>\n",
       "      <td>Afternoon</td>\n",
       "      <td>TAS</td>\n",
       "      <td>Seniors</td>\n",
       "      <td>14</td>\n",
       "      <td>35000</td>\n",
       "    </tr>\n",
       "    <tr>\n",
       "      <th>7556</th>\n",
       "      <td>2020-12-30</td>\n",
       "      <td>Evening</td>\n",
       "      <td>TAS</td>\n",
       "      <td>Kids</td>\n",
       "      <td>15</td>\n",
       "      <td>37500</td>\n",
       "    </tr>\n",
       "    <tr>\n",
       "      <th>7557</th>\n",
       "      <td>2020-12-30</td>\n",
       "      <td>Evening</td>\n",
       "      <td>TAS</td>\n",
       "      <td>Men</td>\n",
       "      <td>15</td>\n",
       "      <td>37500</td>\n",
       "    </tr>\n",
       "    <tr>\n",
       "      <th>7558</th>\n",
       "      <td>2020-12-30</td>\n",
       "      <td>Evening</td>\n",
       "      <td>TAS</td>\n",
       "      <td>Women</td>\n",
       "      <td>11</td>\n",
       "      <td>27500</td>\n",
       "    </tr>\n",
       "    <tr>\n",
       "      <th>7559</th>\n",
       "      <td>2020-12-30</td>\n",
       "      <td>Evening</td>\n",
       "      <td>TAS</td>\n",
       "      <td>Seniors</td>\n",
       "      <td>13</td>\n",
       "      <td>32500</td>\n",
       "    </tr>\n",
       "  </tbody>\n",
       "</table>\n",
       "<p>7560 rows × 6 columns</p>\n",
       "</div>"
      ],
      "text/plain": [
       "           Date        Time State     Group  Unit  Sales\n",
       "0    2020-10-01     Morning    WA      Kids     8  20000\n",
       "1    2020-10-01     Morning    WA       Men     8  20000\n",
       "2    2020-10-01     Morning    WA     Women     4  10000\n",
       "3    2020-10-01     Morning    WA   Seniors    15  37500\n",
       "4    2020-10-01   Afternoon    WA      Kids     3   7500\n",
       "...         ...         ...   ...       ...   ...    ...\n",
       "7555 2020-12-30   Afternoon   TAS   Seniors    14  35000\n",
       "7556 2020-12-30     Evening   TAS      Kids    15  37500\n",
       "7557 2020-12-30     Evening   TAS       Men    15  37500\n",
       "7558 2020-12-30     Evening   TAS     Women    11  27500\n",
       "7559 2020-12-30     Evening   TAS   Seniors    13  32500\n",
       "\n",
       "[7560 rows x 6 columns]"
      ]
     },
     "execution_count": 19,
     "metadata": {},
     "output_type": "execute_result"
    }
   ],
   "source": [
    "df.dropna()"
   ]
  },
  {
   "cell_type": "code",
   "execution_count": 20,
   "id": "75bc9981-cf86-475a-8259-fd499e08fef4",
   "metadata": {},
   "outputs": [
    {
     "data": {
      "text/html": [
       "<div>\n",
       "<style scoped>\n",
       "    .dataframe tbody tr th:only-of-type {\n",
       "        vertical-align: middle;\n",
       "    }\n",
       "\n",
       "    .dataframe tbody tr th {\n",
       "        vertical-align: top;\n",
       "    }\n",
       "\n",
       "    .dataframe thead th {\n",
       "        text-align: right;\n",
       "    }\n",
       "</style>\n",
       "<table border=\"1\" class=\"dataframe\">\n",
       "  <thead>\n",
       "    <tr style=\"text-align: right;\">\n",
       "      <th></th>\n",
       "      <th>Date</th>\n",
       "      <th>Unit</th>\n",
       "      <th>Sales</th>\n",
       "    </tr>\n",
       "  </thead>\n",
       "  <tbody>\n",
       "    <tr>\n",
       "      <th>count</th>\n",
       "      <td>7560</td>\n",
       "      <td>7560.000000</td>\n",
       "      <td>7560.000000</td>\n",
       "    </tr>\n",
       "    <tr>\n",
       "      <th>mean</th>\n",
       "      <td>2020-11-15 04:00:00.000000256</td>\n",
       "      <td>18.005423</td>\n",
       "      <td>45013.558201</td>\n",
       "    </tr>\n",
       "    <tr>\n",
       "      <th>min</th>\n",
       "      <td>2020-10-01 00:00:00</td>\n",
       "      <td>2.000000</td>\n",
       "      <td>5000.000000</td>\n",
       "    </tr>\n",
       "    <tr>\n",
       "      <th>25%</th>\n",
       "      <td>2020-10-23 00:00:00</td>\n",
       "      <td>8.000000</td>\n",
       "      <td>20000.000000</td>\n",
       "    </tr>\n",
       "    <tr>\n",
       "      <th>50%</th>\n",
       "      <td>2020-11-15 12:00:00</td>\n",
       "      <td>14.000000</td>\n",
       "      <td>35000.000000</td>\n",
       "    </tr>\n",
       "    <tr>\n",
       "      <th>75%</th>\n",
       "      <td>2020-12-08 00:00:00</td>\n",
       "      <td>26.000000</td>\n",
       "      <td>65000.000000</td>\n",
       "    </tr>\n",
       "    <tr>\n",
       "      <th>max</th>\n",
       "      <td>2020-12-30 00:00:00</td>\n",
       "      <td>65.000000</td>\n",
       "      <td>162500.000000</td>\n",
       "    </tr>\n",
       "    <tr>\n",
       "      <th>std</th>\n",
       "      <td>NaN</td>\n",
       "      <td>12.901403</td>\n",
       "      <td>32253.506944</td>\n",
       "    </tr>\n",
       "  </tbody>\n",
       "</table>\n",
       "</div>"
      ],
      "text/plain": [
       "                                Date         Unit          Sales\n",
       "count                           7560  7560.000000    7560.000000\n",
       "mean   2020-11-15 04:00:00.000000256    18.005423   45013.558201\n",
       "min              2020-10-01 00:00:00     2.000000    5000.000000\n",
       "25%              2020-10-23 00:00:00     8.000000   20000.000000\n",
       "50%              2020-11-15 12:00:00    14.000000   35000.000000\n",
       "75%              2020-12-08 00:00:00    26.000000   65000.000000\n",
       "max              2020-12-30 00:00:00    65.000000  162500.000000\n",
       "std                              NaN    12.901403   32253.506944"
      ]
     },
     "execution_count": 20,
     "metadata": {},
     "output_type": "execute_result"
    }
   ],
   "source": [
    "df.describe()"
   ]
  },
  {
   "cell_type": "code",
   "execution_count": 21,
   "id": "6618d8bb-9152-4a17-84db-701366bb918e",
   "metadata": {},
   "outputs": [
    {
     "data": {
      "text/plain": [
       "<Axes: xlabel='Unit'>"
      ]
     },
     "execution_count": 21,
     "metadata": {},
     "output_type": "execute_result"
    },
    {
     "data": {
      "image/png": "[encoded data removed]",
      "text/plain": [
       "<Figure size 640x480 with 1 Axes>"
      ]
     },
     "metadata": {},
     "output_type": "display_data"
    }
   ],
   "source": [
    "plt.grid('darkgrid')\n",
    "sns.boxplot(x = 'Unit', data = df)"
   ]
  },
  {
   "cell_type": "code",
   "execution_count": 22,
   "id": "215244f7-8e4a-4bc8-bc6b-69ed7b957f6b",
   "metadata": {},
   "outputs": [
    {
     "data": {
      "text/plain": [
       "<Axes: xlabel='Sales'>"
      ]
     },
     "execution_count": 22,
     "metadata": {},
     "output_type": "execute_result"
    },
    {
     "data": {
      "image/png": "[encoded data removed]",
      "text/plain": [
       "<Figure size 640x480 with 1 Axes>"
      ]
     },
     "metadata": {},
     "output_type": "display_data"
    }
   ],
   "source": [
    "plt.grid('darkgrid')\n",
    "sns.boxplot(x = 'Sales', data = df)"
   ]
  },
  {
   "cell_type": "code",
   "execution_count": 23,
   "id": "88d6edaf-e506-4733-89bb-a770fdbc505a",
   "metadata": {},
   "outputs": [
    {
     "data": {
      "text/plain": [
       "0.25     8.0\n",
       "0.75    26.0\n",
       "Name: Unit, dtype: float64"
      ]
     },
     "execution_count": 23,
     "metadata": {},
     "output_type": "execute_result"
    }
   ],
   "source": [
    "df.Unit.quantile([0.25,0.75])"
   ]
  },
  {
   "cell_type": "code",
   "execution_count": 24,
   "id": "83b84716-00df-468c-83e7-64a4bb9e0b94",
   "metadata": {},
   "outputs": [],
   "source": [
    "unit_iqr = df.Unit.quantile([0.75]) - df.Unit.quantile(0.25)"
   ]
  },
  {
   "cell_type": "code",
   "execution_count": 25,
   "id": "083d2ace-1eb6-4ca7-bede-fb27ea9aa186",
   "metadata": {},
   "outputs": [],
   "source": [
    "unit_outlier = df.Unit.quantile([0.75]) + unit_iqr*1.5"
   ]
  },
  {
   "cell_type": "code",
   "execution_count": 26,
   "id": "d2e9ad40-1ee2-4776-b565-4a3ca0d6694e",
   "metadata": {},
   "outputs": [],
   "source": [
    "unit_outlier = int(unit_outlier)"
   ]
  },
  {
   "cell_type": "code",
   "execution_count": 27,
   "id": "ba226204-417b-4bba-ace5-714c42508a63",
   "metadata": {},
   "outputs": [
    {
     "name": "stdout",
     "output_type": "stream",
     "text": [
      "53\n"
     ]
    }
   ],
   "source": [
    "print(unit_outlier)"
   ]
  },
  {
   "cell_type": "code",
   "execution_count": 28,
   "id": "7f86dac9-81d8-471c-99fc-5573f793a732",
   "metadata": {},
   "outputs": [],
   "source": [
    "df.Sales.quantile([0.25,0.75])\n",
    "Sales_iqr = df.Sales.quantile(0.75) - df.Sales.quantile(0.25)\n",
    "Sales_outlier = df.Sales.quantile([0.75]) + Sales_iqr*1.5"
   ]
  },
  {
   "cell_type": "code",
   "execution_count": 29,
   "id": "7430930e-a5f2-4234-aaf4-24bed7b87db9",
   "metadata": {},
   "outputs": [
    {
     "name": "stdout",
     "output_type": "stream",
     "text": [
      "0.75    132500.0\n",
      "Name: Sales, dtype: float64\n"
     ]
    }
   ],
   "source": [
    "print(Sales_outlier)"
   ]
  },
  {
   "cell_type": "code",
   "execution_count": 30,
   "id": "6c2fd4a2-0cc2-4054-b33c-442c57225d4a",
   "metadata": {},
   "outputs": [],
   "source": [
    "Sales_outlier = int(Sales_outlier)"
   ]
  },
  {
   "cell_type": "code",
   "execution_count": 31,
   "id": "4e04f437-34a1-4e1a-8469-a3c521c99a10",
   "metadata": {},
   "outputs": [],
   "source": [
    "df = df[df['Unit'] <= unit_outlier]"
   ]
  },
  {
   "cell_type": "code",
   "execution_count": 32,
   "id": "fc0bd085-b67d-4891-9189-f22980378f74",
   "metadata": {},
   "outputs": [
    {
     "name": "stdout",
     "output_type": "stream",
     "text": [
      "<class 'pandas.core.frame.DataFrame'>\n",
      "Index: 7437 entries, 0 to 7559\n",
      "Data columns (total 6 columns):\n",
      " #   Column  Non-Null Count  Dtype         \n",
      "---  ------  --------------  -----         \n",
      " 0   Date    7437 non-null   datetime64[ns]\n",
      " 1   Time    7437 non-null   object        \n",
      " 2   State   7437 non-null   object        \n",
      " 3   Group   7437 non-null   object        \n",
      " 4   Unit    7437 non-null   int32         \n",
      " 5   Sales   7437 non-null   int32         \n",
      "dtypes: datetime64[ns](1), int32(2), object(3)\n",
      "memory usage: 348.6+ KB\n"
     ]
    }
   ],
   "source": [
    "df.info()"
   ]
  },
  {
   "cell_type": "code",
   "execution_count": 33,
   "id": "4507e068-351a-4227-9882-9894e1612344",
   "metadata": {},
   "outputs": [],
   "source": [
    "df = df[df['Sales'] <= Sales_outlier]"
   ]
  },
  {
   "cell_type": "code",
   "execution_count": 34,
   "id": "99ff93f3-e4e5-444f-86bd-ae022bad2c19",
   "metadata": {},
   "outputs": [
    {
     "name": "stdout",
     "output_type": "stream",
     "text": [
      "<class 'pandas.core.frame.DataFrame'>\n",
      "Index: 7437 entries, 0 to 7559\n",
      "Data columns (total 6 columns):\n",
      " #   Column  Non-Null Count  Dtype         \n",
      "---  ------  --------------  -----         \n",
      " 0   Date    7437 non-null   datetime64[ns]\n",
      " 1   Time    7437 non-null   object        \n",
      " 2   State   7437 non-null   object        \n",
      " 3   Group   7437 non-null   object        \n",
      " 4   Unit    7437 non-null   int32         \n",
      " 5   Sales   7437 non-null   int32         \n",
      "dtypes: datetime64[ns](1), int32(2), object(3)\n",
      "memory usage: 348.6+ KB\n"
     ]
    }
   ],
   "source": [
    "df.info()"
   ]
  },
  {
   "cell_type": "code",
   "execution_count": 35,
   "id": "54ee7898-d7ab-4054-9ace-931144207ad1",
   "metadata": {},
   "outputs": [],
   "source": [
    "## Dropped 123 rows for outlier in Unit data\n",
    "## Dropped 26 rows for outlier in Sales data"
   ]
  },
  {
   "cell_type": "code",
   "execution_count": 36,
   "id": "21f9ae42-a637-407b-bce6-d0c0b141f9b8",
   "metadata": {},
   "outputs": [],
   "source": [
    "from sklearn.preprocessing import StandardScaler\n",
    "from scipy.stats import norm\n",
    "from sklearn.preprocessing import  MinMaxScaler"
   ]
  },
  {
   "cell_type": "code",
   "execution_count": 37,
   "id": "641c06ef-1f01-4607-8b26-b9013384740e",
   "metadata": {},
   "outputs": [
    {
     "name": "stdout",
     "output_type": "stream",
     "text": [
      "Index(['Unit', 'Sales'], dtype='object')\n"
     ]
    }
   ],
   "source": [
    "numerical_cols = df.select_dtypes(include=['int32']).columns\n",
    "print(numerical_cols)"
   ]
  },
  {
   "cell_type": "code",
   "execution_count": 38,
   "id": "b4e87023-7720-45fb-9565-1b51dc98f428",
   "metadata": {},
   "outputs": [
    {
     "name": "stdout",
     "output_type": "stream",
     "text": [
      "      Unit  Sales\n",
      "0        8  20000\n",
      "1        8  20000\n",
      "2        4  10000\n",
      "3       15  37500\n",
      "4        3   7500\n",
      "...    ...    ...\n",
      "7555    14  35000\n",
      "7556    15  37500\n",
      "7557    15  37500\n",
      "7558    11  27500\n",
      "7559    13  32500\n",
      "\n",
      "[7437 rows x 2 columns]\n"
     ]
    }
   ],
   "source": [
    "df_numeric = df[numerical_cols]\n",
    "print(df_numeric)"
   ]
  },
  {
   "cell_type": "code",
   "execution_count": 39,
   "id": "60eca5c0-eb96-4b57-872d-a7c4fa8c6834",
   "metadata": {},
   "outputs": [
    {
     "name": "stdout",
     "output_type": "stream",
     "text": [
      "[[0.11764706 0.11764706]\n",
      " [0.11764706 0.11764706]\n",
      " [0.03921569 0.03921569]\n",
      " ...\n",
      " [0.25490196 0.25490196]\n",
      " [0.17647059 0.17647059]\n",
      " [0.21568627 0.21568627]]\n"
     ]
    }
   ],
   "source": [
    "scaler_unit = MinMaxScaler()\n",
    "df2 = scaler_unit.fit_transform(df_numeric)\n",
    "print(df2)"
   ]
  },
  {
   "cell_type": "code",
   "execution_count": 40,
   "id": "0af96ee4-1ff5-4b0c-84ae-72f05dfe004d",
   "metadata": {},
   "outputs": [
    {
     "name": "stdout",
     "output_type": "stream",
     "text": [
      "          Unit     Sales\n",
      "0     0.117647  0.117647\n",
      "1     0.117647  0.117647\n",
      "2     0.039216  0.039216\n",
      "3     0.254902  0.254902\n",
      "4     0.019608  0.019608\n",
      "...        ...       ...\n",
      "7432  0.235294  0.235294\n",
      "7433  0.254902  0.254902\n",
      "7434  0.254902  0.254902\n",
      "7435  0.176471  0.176471\n",
      "7436  0.215686  0.215686\n",
      "\n",
      "[7437 rows x 2 columns]\n"
     ]
    }
   ],
   "source": [
    "df2 = pd.DataFrame(df2, columns=df_numeric.columns)\n",
    "print(df2)"
   ]
  },
  {
   "cell_type": "code",
   "execution_count": 41,
   "id": "b84ad1c1-dc1a-4f5d-bf32-e4568a17bb80",
   "metadata": {},
   "outputs": [],
   "source": [
    "norm_df = df.copy()"
   ]
  },
  {
   "cell_type": "code",
   "execution_count": 42,
   "id": "481f7a1d-ef1f-46e0-944e-64c60549226b",
   "metadata": {},
   "outputs": [
    {
     "data": {
      "text/html": [
       "<div>\n",
       "<style scoped>\n",
       "    .dataframe tbody tr th:only-of-type {\n",
       "        vertical-align: middle;\n",
       "    }\n",
       "\n",
       "    .dataframe tbody tr th {\n",
       "        vertical-align: top;\n",
       "    }\n",
       "\n",
       "    .dataframe thead th {\n",
       "        text-align: right;\n",
       "    }\n",
       "</style>\n",
       "<table border=\"1\" class=\"dataframe\">\n",
       "  <thead>\n",
       "    <tr style=\"text-align: right;\">\n",
       "      <th></th>\n",
       "      <th>Date</th>\n",
       "      <th>Time</th>\n",
       "      <th>State</th>\n",
       "      <th>Group</th>\n",
       "      <th>Unit</th>\n",
       "      <th>Sales</th>\n",
       "    </tr>\n",
       "  </thead>\n",
       "  <tbody>\n",
       "    <tr>\n",
       "      <th>0</th>\n",
       "      <td>2020-10-01</td>\n",
       "      <td>Morning</td>\n",
       "      <td>WA</td>\n",
       "      <td>Kids</td>\n",
       "      <td>0.117647</td>\n",
       "      <td>0.117647</td>\n",
       "    </tr>\n",
       "    <tr>\n",
       "      <th>1</th>\n",
       "      <td>2020-10-01</td>\n",
       "      <td>Morning</td>\n",
       "      <td>WA</td>\n",
       "      <td>Men</td>\n",
       "      <td>0.117647</td>\n",
       "      <td>0.117647</td>\n",
       "    </tr>\n",
       "    <tr>\n",
       "      <th>2</th>\n",
       "      <td>2020-10-01</td>\n",
       "      <td>Morning</td>\n",
       "      <td>WA</td>\n",
       "      <td>Women</td>\n",
       "      <td>0.039216</td>\n",
       "      <td>0.039216</td>\n",
       "    </tr>\n",
       "    <tr>\n",
       "      <th>3</th>\n",
       "      <td>2020-10-01</td>\n",
       "      <td>Morning</td>\n",
       "      <td>WA</td>\n",
       "      <td>Seniors</td>\n",
       "      <td>0.254902</td>\n",
       "      <td>0.254902</td>\n",
       "    </tr>\n",
       "    <tr>\n",
       "      <th>4</th>\n",
       "      <td>2020-10-01</td>\n",
       "      <td>Afternoon</td>\n",
       "      <td>WA</td>\n",
       "      <td>Kids</td>\n",
       "      <td>0.019608</td>\n",
       "      <td>0.019608</td>\n",
       "    </tr>\n",
       "  </tbody>\n",
       "</table>\n",
       "</div>"
      ],
      "text/plain": [
       "        Date        Time State     Group      Unit     Sales\n",
       "0 2020-10-01     Morning    WA      Kids  0.117647  0.117647\n",
       "1 2020-10-01     Morning    WA       Men  0.117647  0.117647\n",
       "2 2020-10-01     Morning    WA     Women  0.039216  0.039216\n",
       "3 2020-10-01     Morning    WA   Seniors  0.254902  0.254902\n",
       "4 2020-10-01   Afternoon    WA      Kids  0.019608  0.019608"
      ]
     },
     "execution_count": 42,
     "metadata": {},
     "output_type": "execute_result"
    }
   ],
   "source": [
    "norm_df['Unit'] = df2['Unit']\n",
    "norm_df['Sales'] = df2['Sales']\n",
    "norm_df.head()"
   ]
  },
  {
   "cell_type": "code",
   "execution_count": 43,
   "id": "55251478-e0c2-40d8-a2af-f3447a4a34b9",
   "metadata": {},
   "outputs": [
    {
     "data": {
      "text/plain": [
       "Group\n",
       "Kids       81367500\n",
       "Men        81315000\n",
       "Seniors    78647500\n",
       "Women      80637500\n",
       "Name: Sales, dtype: int32"
      ]
     },
     "execution_count": 43,
     "metadata": {},
     "output_type": "execute_result"
    }
   ],
   "source": [
    "df.groupby('Group')['Sales'].sum()"
   ]
  },
  {
   "cell_type": "code",
   "execution_count": 44,
   "id": "89af0467-08ab-4a09-9e95-11c49ff23c66",
   "metadata": {},
   "outputs": [
    {
     "data": {
      "text/plain": [
       "<Axes: xlabel='Group'>"
      ]
     },
     "execution_count": 44,
     "metadata": {},
     "output_type": "execute_result"
    },
    {
     "data": {
      "image/png": "[encoded data removed]",
      "text/plain": [
       "<Figure size 640x480 with 1 Axes>"
      ]
     },
     "metadata": {},
     "output_type": "display_data"
    }
   ],
   "source": [
    "df.groupby('Group')['Sales'].sum().plot(kind = 'bar')"
   ]
  },
  {
   "cell_type": "code",
   "execution_count": 45,
   "id": "35b37634-d300-45c0-bd59-aa482d336ff9",
   "metadata": {},
   "outputs": [
    {
     "data": {
      "text/plain": [
       "Group    Time     \n",
       "Kids     Evening      625\n",
       "         Morning      623\n",
       "         Afternoon    617\n",
       "Men      Afternoon    620\n",
       "         Evening      620\n",
       "         Morning      620\n",
       "Seniors  Evening      619\n",
       "         Morning      618\n",
       "         Afternoon    617\n",
       "Women    Morning      622\n",
       "         Afternoon    620\n",
       "         Evening      616\n",
       "Name: count, dtype: int64"
      ]
     },
     "execution_count": 45,
     "metadata": {},
     "output_type": "execute_result"
    }
   ],
   "source": [
    "df.groupby('Group')['Time'].value_counts()"
   ]
  },
  {
   "cell_type": "code",
   "execution_count": 46,
   "id": "5b2c9b12-6917-40cb-bcda-3b46acb6d4bf",
   "metadata": {},
   "outputs": [
    {
     "data": {
      "text/plain": [
       "Date\n",
       "2020-10-01    3720000\n",
       "2020-10-02    3715000\n",
       "2020-10-03    3890000\n",
       "2020-10-04    3720000\n",
       "2020-10-05    3862500\n",
       "               ...   \n",
       "2020-12-26    3965000\n",
       "2020-12-27    3772500\n",
       "2020-12-28    3695000\n",
       "2020-12-29    4032500\n",
       "2020-12-30    4272500\n",
       "Name: Sales, Length: 90, dtype: int32"
      ]
     },
     "execution_count": 46,
     "metadata": {},
     "output_type": "execute_result"
    }
   ],
   "source": [
    "df.groupby('Date')['Sales'].sum()"
   ]
  },
  {
   "cell_type": "code",
   "execution_count": 47,
   "id": "c1596343-3aba-4ead-8799-44388d91d7aa",
   "metadata": {},
   "outputs": [
    {
     "data": {
      "text/plain": [
       "<Axes: xlabel='Date'>"
      ]
     },
     "execution_count": 47,
     "metadata": {},
     "output_type": "execute_result"
    },
    {
     "data": {
      "image/png": "[encoded data removed]",
      "text/plain": [
       "<Figure size 640x480 with 1 Axes>"
      ]
     },
     "metadata": {},
     "output_type": "display_data"
    }
   ],
   "source": [
    "df.groupby('Date')['Sales'].sum().plot(kind = 'line')"
   ]
  },
  {
   "cell_type": "code",
   "execution_count": 48,
   "id": "378ede9f-0465-406f-87ad-fbf65f47816c",
   "metadata": {},
   "outputs": [
    {
     "data": {
      "text/plain": [
       "State\n",
       "NSW    74970000\n",
       "NT     22580000\n",
       "QLD    33417500\n",
       "SA     58857500\n",
       "TAS    22760000\n",
       "VIC    87230000\n",
       "WA     22152500\n",
       "Name: Sales, dtype: int32"
      ]
     },
     "execution_count": 48,
     "metadata": {},
     "output_type": "execute_result"
    }
   ],
   "source": [
    "df.groupby('State')['Sales'].sum()"
   ]
  },
  {
   "cell_type": "code",
   "execution_count": 49,
   "id": "7293c81f-31ef-4463-968c-5f040047efc7",
   "metadata": {},
   "outputs": [
    {
     "data": {
      "text/plain": [
       "<Axes: xlabel='State'>"
      ]
     },
     "execution_count": 49,
     "metadata": {},
     "output_type": "execute_result"
    },
    {
     "data": {
      "image/png": "[encoded data removed]",
      "text/plain": [
       "<Figure size 640x480 with 1 Axes>"
      ]
     },
     "metadata": {},
     "output_type": "display_data"
    }
   ],
   "source": [
    "df.groupby('State')['Sales'].sum().plot(kind = 'bar')"
   ]
  },
  {
   "cell_type": "code",
   "execution_count": 50,
   "id": "ac8e03e4-ec85-48a0-a002-30f187ce030f",
   "metadata": {},
   "outputs": [
    {
     "data": {
      "text/plain": [
       "State  Group  \n",
       "NSW    Kids       270\n",
       "       Men        270\n",
       "       Seniors    270\n",
       "       Women      270\n",
       "NT     Kids       270\n",
       "       Men        270\n",
       "       Seniors    270\n",
       "       Women      270\n",
       "QLD    Kids       270\n",
       "       Men        270\n",
       "       Seniors    270\n",
       "       Women      270\n",
       "SA     Kids       270\n",
       "       Men        270\n",
       "       Seniors    270\n",
       "       Women      270\n",
       "TAS    Kids       270\n",
       "       Men        270\n",
       "       Seniors    270\n",
       "       Women      270\n",
       "VIC    Kids       245\n",
       "       Men        240\n",
       "       Women      238\n",
       "       Seniors    234\n",
       "WA     Kids       270\n",
       "       Men        270\n",
       "       Seniors    270\n",
       "       Women      270\n",
       "Name: count, dtype: int64"
      ]
     },
     "execution_count": 50,
     "metadata": {},
     "output_type": "execute_result"
    }
   ],
   "source": [
    "df.groupby('State')['Group'].value_counts()"
   ]
  },
  {
   "cell_type": "code",
   "execution_count": 51,
   "id": "077eed16-4449-49c4-b483-1cf2c3858f8b",
   "metadata": {},
   "outputs": [
    {
     "data": {
      "text/plain": [
       "<Axes: xlabel='State,Group'>"
      ]
     },
     "execution_count": 51,
     "metadata": {},
     "output_type": "execute_result"
    },
    {
     "data": {
      "image/png": "[encoded data removed]",
      "text/plain": [
       "<Figure size 640x480 with 1 Axes>"
      ]
     },
     "metadata": {},
     "output_type": "display_data"
    }
   ],
   "source": [
    "df.groupby('State')['Group'].value_counts().plot(kind = 'bar')"
   ]
  },
  {
   "cell_type": "code",
   "execution_count": 52,
   "id": "9703ba96-e29c-4268-b169-4f3d8c5f9e8c",
   "metadata": {},
   "outputs": [
    {
     "data": {
      "text/plain": [
       "Group\n",
       "Kids       32547\n",
       "Men        32526\n",
       "Seniors    31459\n",
       "Women      32255\n",
       "Name: Unit, dtype: int32"
      ]
     },
     "execution_count": 52,
     "metadata": {},
     "output_type": "execute_result"
    }
   ],
   "source": [
    "df.groupby('Group')['Unit'].sum()"
   ]
  },
  {
   "cell_type": "code",
   "execution_count": 53,
   "id": "e4091fd6-0985-45c4-a40f-d1bd70ebbc3f",
   "metadata": {},
   "outputs": [
    {
     "data": {
      "text/plain": [
       "<Axes: xlabel='Group'>"
      ]
     },
     "execution_count": 53,
     "metadata": {},
     "output_type": "execute_result"
    },
    {
     "data": {
      "image/png": "[encoded data removed]",
      "text/plain": [
       "<Figure size 640x480 with 1 Axes>"
      ]
     },
     "metadata": {},
     "output_type": "display_data"
    }
   ],
   "source": [
    "df.groupby('Group')['Unit'].sum().plot(kind = 'bar')"
   ]
  },
  {
   "cell_type": "code",
   "execution_count": 54,
   "id": "6dd37d99-b18c-4bf4-bef5-838641fe03f0",
   "metadata": {},
   "outputs": [
    {
     "data": {
      "text/plain": [
       "<Axes: xlabel='Group', ylabel='Sales'>"
      ]
     },
     "execution_count": 54,
     "metadata": {},
     "output_type": "execute_result"
    },
    {
     "data": {
      "image/png": "[encoded data removed]",
      "text/plain": [
       "<Figure size 640x480 with 1 Axes>"
      ]
     },
     "metadata": {},
     "output_type": "display_data"
    }
   ],
   "source": [
    "sns.barplot(x = 'Group', y = 'Sales', data = df)"
   ]
  },
  {
   "cell_type": "markdown",
   "id": "94fa77a3-32ff-4979-b04b-fae67f257736",
   "metadata": {},
   "source": [
    "2.\tData Analysis\n",
    "●\tPerform descriptive statistical analysis on the data (Sales and Unit columns) (Techniques such as mean, median, mode and standard deviation can be used.). \n",
    "●\tDetermine which group is generating the highest sales, and which group is generating the lowest sales.\n",
    "●\tDetermine which state is generating the highest sales, and which state is generating the lowest sales.\n",
    "●\tGenerate weekly, monthly and quarterly reports for the analysis made.\n",
    "(Use suitable libraries such as NumPy, Pandas, SciPy etc. for performing the analysis.)\n"
   ]
  },
  {
   "cell_type": "code",
   "execution_count": 55,
   "id": "2067fa83-5fc4-42b2-a31d-0493677a084e",
   "metadata": {},
   "outputs": [
    {
     "data": {
      "text/html": [
       "<div>\n",
       "<style scoped>\n",
       "    .dataframe tbody tr th:only-of-type {\n",
       "        vertical-align: middle;\n",
       "    }\n",
       "\n",
       "    .dataframe tbody tr th {\n",
       "        vertical-align: top;\n",
       "    }\n",
       "\n",
       "    .dataframe thead th {\n",
       "        text-align: right;\n",
       "    }\n",
       "</style>\n",
       "<table border=\"1\" class=\"dataframe\">\n",
       "  <thead>\n",
       "    <tr style=\"text-align: right;\">\n",
       "      <th></th>\n",
       "      <th>Date</th>\n",
       "      <th>Unit</th>\n",
       "      <th>Sales</th>\n",
       "    </tr>\n",
       "  </thead>\n",
       "  <tbody>\n",
       "    <tr>\n",
       "      <th>count</th>\n",
       "      <td>7437</td>\n",
       "      <td>7437.000000</td>\n",
       "      <td>7437.00000</td>\n",
       "    </tr>\n",
       "    <tr>\n",
       "      <th>mean</th>\n",
       "      <td>2020-11-14 15:42:11.181927936</td>\n",
       "      <td>17.317063</td>\n",
       "      <td>43292.65833</td>\n",
       "    </tr>\n",
       "    <tr>\n",
       "      <th>min</th>\n",
       "      <td>2020-10-01 00:00:00</td>\n",
       "      <td>2.000000</td>\n",
       "      <td>5000.00000</td>\n",
       "    </tr>\n",
       "    <tr>\n",
       "      <th>25%</th>\n",
       "      <td>2020-10-23 00:00:00</td>\n",
       "      <td>8.000000</td>\n",
       "      <td>20000.00000</td>\n",
       "    </tr>\n",
       "    <tr>\n",
       "      <th>50%</th>\n",
       "      <td>2020-11-15 00:00:00</td>\n",
       "      <td>14.000000</td>\n",
       "      <td>35000.00000</td>\n",
       "    </tr>\n",
       "    <tr>\n",
       "      <th>75%</th>\n",
       "      <td>2020-12-07 00:00:00</td>\n",
       "      <td>25.000000</td>\n",
       "      <td>62500.00000</td>\n",
       "    </tr>\n",
       "    <tr>\n",
       "      <th>max</th>\n",
       "      <td>2020-12-30 00:00:00</td>\n",
       "      <td>53.000000</td>\n",
       "      <td>132500.00000</td>\n",
       "    </tr>\n",
       "    <tr>\n",
       "      <th>std</th>\n",
       "      <td>NaN</td>\n",
       "      <td>11.826102</td>\n",
       "      <td>29565.25541</td>\n",
       "    </tr>\n",
       "  </tbody>\n",
       "</table>\n",
       "</div>"
      ],
      "text/plain": [
       "                                Date         Unit         Sales\n",
       "count                           7437  7437.000000    7437.00000\n",
       "mean   2020-11-14 15:42:11.181927936    17.317063   43292.65833\n",
       "min              2020-10-01 00:00:00     2.000000    5000.00000\n",
       "25%              2020-10-23 00:00:00     8.000000   20000.00000\n",
       "50%              2020-11-15 00:00:00    14.000000   35000.00000\n",
       "75%              2020-12-07 00:00:00    25.000000   62500.00000\n",
       "max              2020-12-30 00:00:00    53.000000  132500.00000\n",
       "std                              NaN    11.826102   29565.25541"
      ]
     },
     "execution_count": 55,
     "metadata": {},
     "output_type": "execute_result"
    }
   ],
   "source": [
    "df.describe()"
   ]
  },
  {
   "cell_type": "code",
   "execution_count": 56,
   "id": "53a2feb2-3af4-4685-aac5-54a5e9d7daf7",
   "metadata": {},
   "outputs": [
    {
     "data": {
      "text/plain": [
       "43292.65832997176"
      ]
     },
     "execution_count": 56,
     "metadata": {},
     "output_type": "execute_result"
    }
   ],
   "source": [
    "df['Sales'].mean()"
   ]
  },
  {
   "cell_type": "code",
   "execution_count": 57,
   "id": "37c6ac97-53f4-4d63-b698-f387f237368c",
   "metadata": {},
   "outputs": [
    {
     "data": {
      "text/plain": [
       "35000.0"
      ]
     },
     "execution_count": 57,
     "metadata": {},
     "output_type": "execute_result"
    }
   ],
   "source": [
    "df['Sales'].median()"
   ]
  },
  {
   "cell_type": "code",
   "execution_count": 58,
   "id": "1e111987-8b07-43f7-9a61-e791dee996ca",
   "metadata": {},
   "outputs": [
    {
     "data": {
      "text/plain": [
       "0    22500\n",
       "Name: Sales, dtype: int32"
      ]
     },
     "execution_count": 58,
     "metadata": {},
     "output_type": "execute_result"
    }
   ],
   "source": [
    "df['Sales'].mode()"
   ]
  },
  {
   "cell_type": "code",
   "execution_count": 59,
   "id": "01243348-7f3e-4494-95ba-d3cf90d0a137",
   "metadata": {},
   "outputs": [
    {
     "data": {
      "text/plain": [
       "29565.255410371064"
      ]
     },
     "execution_count": 59,
     "metadata": {},
     "output_type": "execute_result"
    }
   ],
   "source": [
    "df['Sales'].std()"
   ]
  },
  {
   "cell_type": "code",
   "execution_count": 60,
   "id": "09fe9bbb-8679-4701-9ebd-ce45604a7a48",
   "metadata": {},
   "outputs": [
    {
     "data": {
      "text/plain": [
       "874104327.4804755"
      ]
     },
     "execution_count": 60,
     "metadata": {},
     "output_type": "execute_result"
    }
   ],
   "source": [
    "df['Sales'].var()"
   ]
  },
  {
   "cell_type": "code",
   "execution_count": 61,
   "id": "6a744774-ffac-47e3-bc7b-06075c6efb42",
   "metadata": {},
   "outputs": [
    {
     "data": {
      "text/plain": [
       "17.317063331988706"
      ]
     },
     "execution_count": 61,
     "metadata": {},
     "output_type": "execute_result"
    }
   ],
   "source": [
    "df['Unit'].mean()"
   ]
  },
  {
   "cell_type": "code",
   "execution_count": 62,
   "id": "efaeaf92-1bc3-4844-90c2-3bd3a2b86949",
   "metadata": {},
   "outputs": [
    {
     "data": {
      "text/plain": [
       "14.0"
      ]
     },
     "execution_count": 62,
     "metadata": {},
     "output_type": "execute_result"
    }
   ],
   "source": [
    "df['Unit'].median()"
   ]
  },
  {
   "cell_type": "code",
   "execution_count": 63,
   "id": "f046b3fd-8e79-49b0-b1ba-b942b3ff724e",
   "metadata": {},
   "outputs": [
    {
     "data": {
      "text/plain": [
       "0    9\n",
       "Name: Unit, dtype: int32"
      ]
     },
     "execution_count": 63,
     "metadata": {},
     "output_type": "execute_result"
    }
   ],
   "source": [
    "df['Unit'].mode()"
   ]
  },
  {
   "cell_type": "code",
   "execution_count": 64,
   "id": "768810e7-251e-40c7-b35b-13bcfbac55f6",
   "metadata": {},
   "outputs": [
    {
     "data": {
      "text/plain": [
       "11.826102164148427"
      ]
     },
     "execution_count": 64,
     "metadata": {},
     "output_type": "execute_result"
    }
   ],
   "source": [
    "df['Unit'].std()"
   ]
  },
  {
   "cell_type": "code",
   "execution_count": 65,
   "id": "71f0d0b0-9b10-4546-9047-239cc57ff8cf",
   "metadata": {},
   "outputs": [
    {
     "data": {
      "text/plain": [
       "139.8566923968761"
      ]
     },
     "execution_count": 65,
     "metadata": {},
     "output_type": "execute_result"
    }
   ],
   "source": [
    "df['Unit'].var()"
   ]
  },
  {
   "cell_type": "code",
   "execution_count": 66,
   "id": "6cd7df21-e7d8-4d85-902a-95e2037cb6b7",
   "metadata": {},
   "outputs": [
    {
     "data": {
      "text/plain": [
       "0.8701234398876256"
      ]
     },
     "execution_count": 66,
     "metadata": {},
     "output_type": "execute_result"
    }
   ],
   "source": [
    "df['Unit'].skew()"
   ]
  },
  {
   "cell_type": "code",
   "execution_count": 67,
   "id": "ea880ca4-98a4-4be2-9a3b-41ab5af911d7",
   "metadata": {},
   "outputs": [
    {
     "data": {
      "text/plain": [
       "-0.19939606131767373"
      ]
     },
     "execution_count": 67,
     "metadata": {},
     "output_type": "execute_result"
    }
   ],
   "source": [
    "df['Unit'].kurt()"
   ]
  },
  {
   "cell_type": "code",
   "execution_count": 68,
   "id": "39abf9b4-5c41-4359-8684-78be19e0b5e4",
   "metadata": {},
   "outputs": [
    {
     "data": {
      "text/plain": [
       "0.8701234398876261"
      ]
     },
     "execution_count": 68,
     "metadata": {},
     "output_type": "execute_result"
    }
   ],
   "source": [
    "df['Sales'].skew()"
   ]
  },
  {
   "cell_type": "code",
   "execution_count": 69,
   "id": "4e0f8b83-891c-4a8b-b08f-25bd30a255e9",
   "metadata": {},
   "outputs": [
    {
     "data": {
      "text/plain": [
       "-0.19939606131767418"
      ]
     },
     "execution_count": 69,
     "metadata": {},
     "output_type": "execute_result"
    }
   ],
   "source": [
    "df['Sales'].kurt()"
   ]
  },
  {
   "cell_type": "code",
   "execution_count": 70,
   "id": "ff4242f1-8626-4350-9e76-798d7a08872d",
   "metadata": {},
   "outputs": [
    {
     "data": {
      "text/plain": [
       "Group\n",
       "Kids       81367500\n",
       "Men        81315000\n",
       "Seniors    78647500\n",
       "Women      80637500\n",
       "Name: Sales, dtype: int32"
      ]
     },
     "execution_count": 70,
     "metadata": {},
     "output_type": "execute_result"
    }
   ],
   "source": [
    "df.groupby('Group')['Sales'].sum()"
   ]
  },
  {
   "cell_type": "code",
   "execution_count": 71,
   "id": "4fb6cdcd-5eb7-41a9-b153-52aea7b5a162",
   "metadata": {},
   "outputs": [],
   "source": [
    "highest_sales = df.groupby('Group')['Sales'].sum().max()"
   ]
  },
  {
   "cell_type": "code",
   "execution_count": 72,
   "id": "6f9ff37d-dfe2-4a2e-92f6-9b6b650135ff",
   "metadata": {},
   "outputs": [
    {
     "name": "stdout",
     "output_type": "stream",
     "text": [
      "81367500\n"
     ]
    }
   ],
   "source": [
    "print(highest_sales)"
   ]
  },
  {
   "cell_type": "code",
   "execution_count": 73,
   "id": "03c91e48-2dbb-4f2d-85a7-841bd9388afc",
   "metadata": {},
   "outputs": [],
   "source": [
    "lowest_sales = df.groupby('Group')['Sales'].sum().min()"
   ]
  },
  {
   "cell_type": "code",
   "execution_count": 74,
   "id": "35047122-9a4c-40de-af7e-1f87394e89e5",
   "metadata": {},
   "outputs": [
    {
     "name": "stdout",
     "output_type": "stream",
     "text": [
      "78647500\n"
     ]
    }
   ],
   "source": [
    "print(lowest_sales)"
   ]
  },
  {
   "cell_type": "code",
   "execution_count": 75,
   "id": "6634e6e3-7e75-4670-ac74-64c57b069ba1",
   "metadata": {},
   "outputs": [],
   "source": [
    "## HIghest Sales in Kid Group \n",
    "## lowest Sales in Seniors Group"
   ]
  },
  {
   "cell_type": "code",
   "execution_count": 76,
   "id": "0b6c8681-80bf-473b-9269-de1afd4197af",
   "metadata": {},
   "outputs": [
    {
     "data": {
      "text/plain": [
       "State\n",
       "NSW    74970000\n",
       "NT     22580000\n",
       "QLD    33417500\n",
       "SA     58857500\n",
       "TAS    22760000\n",
       "VIC    87230000\n",
       "WA     22152500\n",
       "Name: Sales, dtype: int32"
      ]
     },
     "execution_count": 76,
     "metadata": {},
     "output_type": "execute_result"
    }
   ],
   "source": [
    "df.groupby('State')['Sales'].sum()"
   ]
  },
  {
   "cell_type": "code",
   "execution_count": 77,
   "id": "e64d2023-690a-4c1b-a096-fa4257aeea9b",
   "metadata": {},
   "outputs": [],
   "source": [
    "## HIghest Sales in VIC state \n",
    "## lowest Sales in WA state"
   ]
  },
  {
   "cell_type": "code",
   "execution_count": 78,
   "id": "dc9d1d82-510d-4314-a282-a6f10ce9cefa",
   "metadata": {},
   "outputs": [],
   "source": [
    "df['Date'] = pd.to_datetime(df['Date'])\n",
    "df.set_index(['Date'], inplace = True)"
   ]
  },
  {
   "cell_type": "code",
   "execution_count": 79,
   "id": "ef3e3df7-ac4e-4825-9338-674b12400d4b",
   "metadata": {},
   "outputs": [],
   "source": [
    "wdf_mean = df['Sales'].resample('W').mean()\n",
    "wdf_median = df['Sales'].resample('W').median()"
   ]
  },
  {
   "cell_type": "code",
   "execution_count": 80,
   "id": "cefc8d41-a9ac-4921-a147-2df971d10a16",
   "metadata": {},
   "outputs": [
    {
     "data": {
      "text/plain": [
       "Date\n",
       "2020-10-04    35000.0\n",
       "2020-10-11    37500.0\n",
       "2020-10-18    35000.0\n",
       "2020-10-25    35000.0\n",
       "2020-11-01    32500.0\n",
       "2020-11-08    25000.0\n",
       "2020-11-15    25000.0\n",
       "2020-11-22    25000.0\n",
       "2020-11-29    25000.0\n",
       "2020-12-06    37500.0\n",
       "2020-12-13    37500.0\n",
       "2020-12-20    37500.0\n",
       "2020-12-27    37500.0\n",
       "2021-01-03    37500.0\n",
       "Freq: W-SUN, Name: Sales, dtype: float64"
      ]
     },
     "execution_count": 80,
     "metadata": {},
     "output_type": "execute_result"
    }
   ],
   "source": [
    "wdf_median"
   ]
  },
  {
   "cell_type": "code",
   "execution_count": 81,
   "id": "d3aba9ac-6370-48d6-9161-ba6bb0f212ad",
   "metadata": {},
   "outputs": [
    {
     "data": {
      "text/plain": [
       "Date\n",
       "2020-10-04    44776.785714\n",
       "2020-10-11    45922.619048\n",
       "2020-10-18    45306.122449\n",
       "2020-10-25    45603.741497\n",
       "2020-11-01    43268.849206\n",
       "2020-11-08    35484.693878\n",
       "2020-11-15    36007.653061\n",
       "2020-11-22    35905.612245\n",
       "2020-11-29    36526.360544\n",
       "2020-12-06    46741.622575\n",
       "2020-12-13    49028.520499\n",
       "2020-12-20    49511.545293\n",
       "2020-12-27    47540.909091\n",
       "2021-01-03    50000.000000\n",
       "Freq: W-SUN, Name: Sales, dtype: float64"
      ]
     },
     "execution_count": 81,
     "metadata": {},
     "output_type": "execute_result"
    }
   ],
   "source": [
    "wdf_mean"
   ]
  },
  {
   "cell_type": "code",
   "execution_count": 82,
   "id": "7f4b402f-25f6-4a55-aa24-dd3a3fd3b5a7",
   "metadata": {},
   "outputs": [
    {
     "data": {
      "image/png": "[encoded data removed]",
      "text/plain": [
       "<Figure size 640x480 with 1 Axes>"
      ]
     },
     "metadata": {},
     "output_type": "display_data"
    }
   ],
   "source": [
    "wdf_mean = df['Sales'].resample('W').mean().plot(kind = 'bar')"
   ]
  },
  {
   "cell_type": "code",
   "execution_count": 83,
   "id": "0b665097-81d5-45ee-b46e-78cc6a403d2c",
   "metadata": {},
   "outputs": [],
   "source": [
    "mdf = df['Sales'].resample('M').mean()"
   ]
  },
  {
   "cell_type": "code",
   "execution_count": 84,
   "id": "4e3b2032-9b77-485e-a5c1-509697edc2ce",
   "metadata": {},
   "outputs": [
    {
     "data": {
      "text/plain": [
       "Date\n",
       "2020-10-31    45353.174603\n",
       "2020-11-30    35985.119048\n",
       "2020-12-31    48808.927826\n",
       "Freq: ME, Name: Sales, dtype: float64"
      ]
     },
     "execution_count": 84,
     "metadata": {},
     "output_type": "execute_result"
    }
   ],
   "source": [
    "mdf"
   ]
  },
  {
   "cell_type": "code",
   "execution_count": 85,
   "id": "b8d2936a-c8b5-4981-aa30-af9b1c56cb98",
   "metadata": {},
   "outputs": [
    {
     "data": {
      "image/png": "[encoded data removed]",
      "text/plain": [
       "<Figure size 640x480 with 1 Axes>"
      ]
     },
     "metadata": {},
     "output_type": "display_data"
    }
   ],
   "source": [
    "mdf = df['Sales'].resample('M').mean().plot(kind = 'bar')"
   ]
  },
  {
   "cell_type": "code",
   "execution_count": 86,
   "id": "3353020a-cdab-4493-b48d-732d83919989",
   "metadata": {},
   "outputs": [],
   "source": [
    "qdf = df['Sales'].resample('Q').mean()"
   ]
  },
  {
   "cell_type": "code",
   "execution_count": 87,
   "id": "fc6d0678-5a28-4c74-ba89-0b44c165539f",
   "metadata": {},
   "outputs": [
    {
     "data": {
      "text/plain": [
       "Date\n",
       "2020-12-31    43292.65833\n",
       "Freq: QE-DEC, Name: Sales, dtype: float64"
      ]
     },
     "execution_count": 87,
     "metadata": {},
     "output_type": "execute_result"
    }
   ],
   "source": [
    "qdf"
   ]
  },
  {
   "cell_type": "markdown",
   "id": "f37d4aa0-3ce3-4039-b8ab-20f67c769f99",
   "metadata": {},
   "source": [
    "3.\tData Visualization\n",
    "●\tUse appropriate data visualization libraries to build a dashboard for the Head of S&M that includes for the key parameters like \n",
    "○\tState-wise sales analysis for different groups (kids, women, men, and seniors) \n",
    "○\tGroup-wise sales analysis (kids, women, men, and seniors) across different states.\n",
    "○\tTime-of-the-day analysis: during which time of the day are sales the highest, and during which time are sales the lowest? [This helps S&M teams design programs for increasing sales such as hyper-personalization and Next Best Offers].\n",
    "The dashboard must contain daily, weekly, monthly and quarterly charts.\n"
   ]
  },
  {
   "cell_type": "code",
   "execution_count": 88,
   "id": "d8ad94fc-82be-4ec0-b05c-d9eb9b4fc035",
   "metadata": {},
   "outputs": [],
   "source": [
    "state_group_sales = df.groupby(['State', 'Group'])['Sales'].sum().unstack()"
   ]
  },
  {
   "cell_type": "code",
   "execution_count": 89,
   "id": "5f68a102-3f4e-4134-83f7-ea24e2b68201",
   "metadata": {},
   "outputs": [
    {
     "data": {
      "text/html": [
       "<div>\n",
       "<style scoped>\n",
       "    .dataframe tbody tr th:only-of-type {\n",
       "        vertical-align: middle;\n",
       "    }\n",
       "\n",
       "    .dataframe tbody tr th {\n",
       "        vertical-align: top;\n",
       "    }\n",
       "\n",
       "    .dataframe thead th {\n",
       "        text-align: right;\n",
       "    }\n",
       "</style>\n",
       "<table border=\"1\" class=\"dataframe\">\n",
       "  <thead>\n",
       "    <tr style=\"text-align: right;\">\n",
       "      <th>Group</th>\n",
       "      <th>Kids</th>\n",
       "      <th>Men</th>\n",
       "      <th>Seniors</th>\n",
       "      <th>Women</th>\n",
       "    </tr>\n",
       "    <tr>\n",
       "      <th>State</th>\n",
       "      <th></th>\n",
       "      <th></th>\n",
       "      <th></th>\n",
       "      <th></th>\n",
       "    </tr>\n",
       "  </thead>\n",
       "  <tbody>\n",
       "    <tr>\n",
       "      <th>NSW</th>\n",
       "      <td>18587500</td>\n",
       "      <td>19022500</td>\n",
       "      <td>18187500</td>\n",
       "      <td>19172500</td>\n",
       "    </tr>\n",
       "    <tr>\n",
       "      <th>NT</th>\n",
       "      <td>5700000</td>\n",
       "      <td>5762500</td>\n",
       "      <td>5465000</td>\n",
       "      <td>5652500</td>\n",
       "    </tr>\n",
       "    <tr>\n",
       "      <th>QLD</th>\n",
       "      <td>8510000</td>\n",
       "      <td>8392500</td>\n",
       "      <td>8190000</td>\n",
       "      <td>8325000</td>\n",
       "    </tr>\n",
       "    <tr>\n",
       "      <th>SA</th>\n",
       "      <td>14515000</td>\n",
       "      <td>14655000</td>\n",
       "      <td>14717500</td>\n",
       "      <td>14970000</td>\n",
       "    </tr>\n",
       "    <tr>\n",
       "      <th>TAS</th>\n",
       "      <td>5775000</td>\n",
       "      <td>5757500</td>\n",
       "      <td>5650000</td>\n",
       "      <td>5577500</td>\n",
       "    </tr>\n",
       "    <tr>\n",
       "      <th>VIC</th>\n",
       "      <td>22655000</td>\n",
       "      <td>21972500</td>\n",
       "      <td>20925000</td>\n",
       "      <td>21677500</td>\n",
       "    </tr>\n",
       "    <tr>\n",
       "      <th>WA</th>\n",
       "      <td>5625000</td>\n",
       "      <td>5752500</td>\n",
       "      <td>5512500</td>\n",
       "      <td>5262500</td>\n",
       "    </tr>\n",
       "  </tbody>\n",
       "</table>\n",
       "</div>"
      ],
      "text/plain": [
       "Group      Kids       Men   Seniors     Women\n",
       "State                                        \n",
       "NSW    18587500  19022500  18187500  19172500\n",
       "NT      5700000   5762500   5465000   5652500\n",
       "QLD     8510000   8392500   8190000   8325000\n",
       "SA     14515000  14655000  14717500  14970000\n",
       "TAS     5775000   5757500   5650000   5577500\n",
       "VIC    22655000  21972500  20925000  21677500\n",
       "WA      5625000   5752500   5512500   5262500"
      ]
     },
     "execution_count": 89,
     "metadata": {},
     "output_type": "execute_result"
    }
   ],
   "source": [
    "state_group_sales"
   ]
  },
  {
   "cell_type": "code",
   "execution_count": 90,
   "id": "306843a5-ca65-4e57-b3dd-5576187597b6",
   "metadata": {},
   "outputs": [
    {
     "data": {
      "text/plain": [
       "<Axes: title={'center': 'State Group Sales'}, xlabel='State'>"
      ]
     },
     "execution_count": 90,
     "metadata": {},
     "output_type": "execute_result"
    },
    {
     "data": {
      "image/png": "[encoded data removed]",
      "text/plain": [
       "<Figure size 640x480 with 1 Axes>"
      ]
     },
     "metadata": {},
     "output_type": "display_data"
    }
   ],
   "source": [
    "state_group_sales.plot(kind = 'bar', title = 'State Group Sales')"
   ]
  },
  {
   "cell_type": "code",
   "execution_count": 91,
   "id": "b676214c-3b36-4427-add3-1697c1b5518f",
   "metadata": {},
   "outputs": [],
   "source": [
    "group_state_sales = df.groupby(['Group', 'State'])['Sales'].sum().unstack()"
   ]
  },
  {
   "cell_type": "code",
   "execution_count": 92,
   "id": "dad319e8-21ea-4f8b-8f4f-7c00becf7307",
   "metadata": {},
   "outputs": [
    {
     "data": {
      "text/html": [
       "<div>\n",
       "<style scoped>\n",
       "    .dataframe tbody tr th:only-of-type {\n",
       "        vertical-align: middle;\n",
       "    }\n",
       "\n",
       "    .dataframe tbody tr th {\n",
       "        vertical-align: top;\n",
       "    }\n",
       "\n",
       "    .dataframe thead th {\n",
       "        text-align: right;\n",
       "    }\n",
       "</style>\n",
       "<table border=\"1\" class=\"dataframe\">\n",
       "  <thead>\n",
       "    <tr style=\"text-align: right;\">\n",
       "      <th>State</th>\n",
       "      <th>NSW</th>\n",
       "      <th>NT</th>\n",
       "      <th>QLD</th>\n",
       "      <th>SA</th>\n",
       "      <th>TAS</th>\n",
       "      <th>VIC</th>\n",
       "      <th>WA</th>\n",
       "    </tr>\n",
       "    <tr>\n",
       "      <th>Group</th>\n",
       "      <th></th>\n",
       "      <th></th>\n",
       "      <th></th>\n",
       "      <th></th>\n",
       "      <th></th>\n",
       "      <th></th>\n",
       "      <th></th>\n",
       "    </tr>\n",
       "  </thead>\n",
       "  <tbody>\n",
       "    <tr>\n",
       "      <th>Kids</th>\n",
       "      <td>18587500</td>\n",
       "      <td>5700000</td>\n",
       "      <td>8510000</td>\n",
       "      <td>14515000</td>\n",
       "      <td>5775000</td>\n",
       "      <td>22655000</td>\n",
       "      <td>5625000</td>\n",
       "    </tr>\n",
       "    <tr>\n",
       "      <th>Men</th>\n",
       "      <td>19022500</td>\n",
       "      <td>5762500</td>\n",
       "      <td>8392500</td>\n",
       "      <td>14655000</td>\n",
       "      <td>5757500</td>\n",
       "      <td>21972500</td>\n",
       "      <td>5752500</td>\n",
       "    </tr>\n",
       "    <tr>\n",
       "      <th>Seniors</th>\n",
       "      <td>18187500</td>\n",
       "      <td>5465000</td>\n",
       "      <td>8190000</td>\n",
       "      <td>14717500</td>\n",
       "      <td>5650000</td>\n",
       "      <td>20925000</td>\n",
       "      <td>5512500</td>\n",
       "    </tr>\n",
       "    <tr>\n",
       "      <th>Women</th>\n",
       "      <td>19172500</td>\n",
       "      <td>5652500</td>\n",
       "      <td>8325000</td>\n",
       "      <td>14970000</td>\n",
       "      <td>5577500</td>\n",
       "      <td>21677500</td>\n",
       "      <td>5262500</td>\n",
       "    </tr>\n",
       "  </tbody>\n",
       "</table>\n",
       "</div>"
      ],
      "text/plain": [
       "State         NSW       NT      QLD        SA      TAS       VIC       WA\n",
       "Group                                                                    \n",
       "Kids     18587500  5700000  8510000  14515000  5775000  22655000  5625000\n",
       "Men      19022500  5762500  8392500  14655000  5757500  21972500  5752500\n",
       "Seniors  18187500  5465000  8190000  14717500  5650000  20925000  5512500\n",
       "Women    19172500  5652500  8325000  14970000  5577500  21677500  5262500"
      ]
     },
     "execution_count": 92,
     "metadata": {},
     "output_type": "execute_result"
    }
   ],
   "source": [
    "group_state_sales"
   ]
  },
  {
   "cell_type": "code",
   "execution_count": 93,
   "id": "b9a55c67-e020-460a-8aa4-44a932e760f8",
   "metadata": {},
   "outputs": [
    {
     "data": {
      "text/plain": [
       "<Axes: title={'center': 'Group State Sales'}, xlabel='Group'>"
      ]
     },
     "execution_count": 93,
     "metadata": {},
     "output_type": "execute_result"
    },
    {
     "data": {
      "image/png": "[encoded data removed]",
      "text/plain": [
       "<Figure size 640x480 with 1 Axes>"
      ]
     },
     "metadata": {},
     "output_type": "display_data"
    }
   ],
   "source": [
    "group_state_sales.plot(kind = 'bar', title = 'Group State Sales')"
   ]
  },
  {
   "cell_type": "code",
   "execution_count": 94,
   "id": "21063761-058f-450f-8f99-59407f731fd5",
   "metadata": {},
   "outputs": [
    {
     "data": {
      "text/plain": [
       "Time\n",
       "Afternoon    107175000\n",
       "Evening      106125000\n",
       "Morning      108667500\n",
       "Name: Sales, dtype: int32"
      ]
     },
     "execution_count": 94,
     "metadata": {},
     "output_type": "execute_result"
    }
   ],
   "source": [
    "df.groupby('Time')['Sales'].sum()"
   ]
  },
  {
   "cell_type": "code",
   "execution_count": 95,
   "id": "c63dd0b3-f76a-40b2-b687-60b312aea823",
   "metadata": {},
   "outputs": [],
   "source": [
    "##Sales were highest in morning\n",
    "##Sales were lowest in evening"
   ]
  },
  {
   "cell_type": "code",
   "execution_count": 96,
   "id": "a04e036f-089a-4543-a827-c527ee31f275",
   "metadata": {},
   "outputs": [],
   "source": [
    "Daily_sales = df.resample('D')['Sales'].sum()"
   ]
  },
  {
   "cell_type": "code",
   "execution_count": 97,
   "id": "c54c8cfc-27ab-47ad-888a-78b9545d2220",
   "metadata": {},
   "outputs": [
    {
     "data": {
      "text/plain": [
       "Date\n",
       "2020-10-01    3720000\n",
       "2020-10-02    3715000\n",
       "2020-10-03    3890000\n",
       "2020-10-04    3720000\n",
       "2020-10-05    3862500\n",
       "               ...   \n",
       "2020-12-26    3965000\n",
       "2020-12-27    3772500\n",
       "2020-12-28    3695000\n",
       "2020-12-29    4032500\n",
       "2020-12-30    4272500\n",
       "Freq: D, Name: Sales, Length: 91, dtype: int32"
      ]
     },
     "execution_count": 97,
     "metadata": {},
     "output_type": "execute_result"
    }
   ],
   "source": [
    "Daily_sales"
   ]
  },
  {
   "cell_type": "code",
   "execution_count": 98,
   "id": "aed88b38-3ac7-4390-9242-fd50c0a1b1af",
   "metadata": {},
   "outputs": [],
   "source": [
    "weekly_sales = df.resample('W')['Sales'].sum()"
   ]
  },
  {
   "cell_type": "code",
   "execution_count": 99,
   "id": "67a00bc5-d36c-40eb-b66e-db45410cb32c",
   "metadata": {},
   "outputs": [
    {
     "data": {
      "text/plain": [
       "Date\n",
       "2020-10-04    15045000\n",
       "2020-10-11    27002500\n",
       "2020-10-18    26640000\n",
       "2020-10-25    26815000\n",
       "2020-11-01    21807500\n",
       "2020-11-08    20865000\n",
       "2020-11-15    21172500\n",
       "2020-11-22    21112500\n",
       "2020-11-29    21477500\n",
       "2020-12-06    26502500\n",
       "2020-12-13    27505000\n",
       "2020-12-20    27875000\n",
       "2020-12-27    26147500\n",
       "2021-01-03    12000000\n",
       "Freq: W-SUN, Name: Sales, dtype: int32"
      ]
     },
     "execution_count": 99,
     "metadata": {},
     "output_type": "execute_result"
    }
   ],
   "source": [
    "weekly_sales"
   ]
  },
  {
   "cell_type": "code",
   "execution_count": 100,
   "id": "1f778616-152d-47d5-bb06-c21c0ef1011f",
   "metadata": {},
   "outputs": [],
   "source": [
    "monthly_sales = df.resample('M')['Sales'].sum()"
   ]
  },
  {
   "cell_type": "code",
   "execution_count": 101,
   "id": "75abd470-036e-4823-bb92-a79faf2443f8",
   "metadata": {},
   "outputs": [
    {
     "data": {
      "text/plain": [
       "Date\n",
       "2020-10-31    114290000\n",
       "2020-11-30     90682500\n",
       "2020-12-31    116995000\n",
       "Freq: ME, Name: Sales, dtype: int32"
      ]
     },
     "execution_count": 101,
     "metadata": {},
     "output_type": "execute_result"
    }
   ],
   "source": [
    "monthly_sales"
   ]
  },
  {
   "cell_type": "code",
   "execution_count": 102,
   "id": "3eedc5ff-f6fb-4b20-ab8f-9c1cde1acd90",
   "metadata": {},
   "outputs": [],
   "source": [
    "quarterly_sales = df.resample('Q')['Sales'].sum()"
   ]
  },
  {
   "cell_type": "code",
   "execution_count": 103,
   "id": "6789f30a-6568-4f99-addb-5a1d5fe1bde4",
   "metadata": {},
   "outputs": [
    {
     "data": {
      "text/plain": [
       "Date\n",
       "2020-12-31    321967500\n",
       "Freq: QE-DEC, Name: Sales, dtype: int32"
      ]
     },
     "execution_count": 103,
     "metadata": {},
     "output_type": "execute_result"
    }
   ],
   "source": [
    "quarterly_sales"
   ]
  },
  {
   "cell_type": "code",
   "execution_count": 104,
   "id": "d72e0de8-2bd9-4c61-8153-3b38403c1370",
   "metadata": {},
   "outputs": [],
   "source": [
    "weekly_date_time_sales = df.groupby('Time')['Sales'].resample('W').sum().unstack()"
   ]
  },
  {
   "cell_type": "code",
   "execution_count": 105,
   "id": "b38504ea-1ab2-42ba-b736-ba9e753a0de7",
   "metadata": {},
   "outputs": [
    {
     "data": {
      "text/html": [
       "<div>\n",
       "<style scoped>\n",
       "    .dataframe tbody tr th:only-of-type {\n",
       "        vertical-align: middle;\n",
       "    }\n",
       "\n",
       "    .dataframe tbody tr th {\n",
       "        vertical-align: top;\n",
       "    }\n",
       "\n",
       "    .dataframe thead th {\n",
       "        text-align: right;\n",
       "    }\n",
       "</style>\n",
       "<table border=\"1\" class=\"dataframe\">\n",
       "  <thead>\n",
       "    <tr style=\"text-align: right;\">\n",
       "      <th>Date</th>\n",
       "      <th>2020-10-04</th>\n",
       "      <th>2020-10-11</th>\n",
       "      <th>2020-10-18</th>\n",
       "      <th>2020-10-25</th>\n",
       "      <th>2020-11-01</th>\n",
       "      <th>2020-11-08</th>\n",
       "      <th>2020-11-15</th>\n",
       "      <th>2020-11-22</th>\n",
       "      <th>2020-11-29</th>\n",
       "      <th>2020-12-06</th>\n",
       "      <th>2020-12-13</th>\n",
       "      <th>2020-12-20</th>\n",
       "      <th>2020-12-27</th>\n",
       "      <th>2021-01-03</th>\n",
       "    </tr>\n",
       "    <tr>\n",
       "      <th>Time</th>\n",
       "      <th></th>\n",
       "      <th></th>\n",
       "      <th></th>\n",
       "      <th></th>\n",
       "      <th></th>\n",
       "      <th></th>\n",
       "      <th></th>\n",
       "      <th></th>\n",
       "      <th></th>\n",
       "      <th></th>\n",
       "      <th></th>\n",
       "      <th></th>\n",
       "      <th></th>\n",
       "      <th></th>\n",
       "    </tr>\n",
       "  </thead>\n",
       "  <tbody>\n",
       "    <tr>\n",
       "      <th>Afternoon</th>\n",
       "      <td>4815000</td>\n",
       "      <td>8817500</td>\n",
       "      <td>8942500</td>\n",
       "      <td>8782500</td>\n",
       "      <td>7075000</td>\n",
       "      <td>7322500</td>\n",
       "      <td>7205000</td>\n",
       "      <td>7085000</td>\n",
       "      <td>7175000</td>\n",
       "      <td>8825000</td>\n",
       "      <td>9047500</td>\n",
       "      <td>9552500</td>\n",
       "      <td>8790000</td>\n",
       "      <td>3740000</td>\n",
       "    </tr>\n",
       "    <tr>\n",
       "      <th>Evening</th>\n",
       "      <td>5047500</td>\n",
       "      <td>9085000</td>\n",
       "      <td>8815000</td>\n",
       "      <td>8805000</td>\n",
       "      <td>7312500</td>\n",
       "      <td>6627500</td>\n",
       "      <td>6930000</td>\n",
       "      <td>6912500</td>\n",
       "      <td>7267500</td>\n",
       "      <td>8635000</td>\n",
       "      <td>9000000</td>\n",
       "      <td>9225000</td>\n",
       "      <td>8392500</td>\n",
       "      <td>4070000</td>\n",
       "    </tr>\n",
       "    <tr>\n",
       "      <th>Morning</th>\n",
       "      <td>5182500</td>\n",
       "      <td>9100000</td>\n",
       "      <td>8882500</td>\n",
       "      <td>9227500</td>\n",
       "      <td>7420000</td>\n",
       "      <td>6915000</td>\n",
       "      <td>7037500</td>\n",
       "      <td>7115000</td>\n",
       "      <td>7035000</td>\n",
       "      <td>9042500</td>\n",
       "      <td>9457500</td>\n",
       "      <td>9097500</td>\n",
       "      <td>8965000</td>\n",
       "      <td>4190000</td>\n",
       "    </tr>\n",
       "  </tbody>\n",
       "</table>\n",
       "</div>"
      ],
      "text/plain": [
       "Date       2020-10-04  2020-10-11  2020-10-18  2020-10-25  2020-11-01  \\\n",
       "Time                                                                    \n",
       "Afternoon     4815000     8817500     8942500     8782500     7075000   \n",
       "Evening       5047500     9085000     8815000     8805000     7312500   \n",
       "Morning       5182500     9100000     8882500     9227500     7420000   \n",
       "\n",
       "Date       2020-11-08  2020-11-15  2020-11-22  2020-11-29  2020-12-06  \\\n",
       "Time                                                                    \n",
       "Afternoon     7322500     7205000     7085000     7175000     8825000   \n",
       "Evening       6627500     6930000     6912500     7267500     8635000   \n",
       "Morning       6915000     7037500     7115000     7035000     9042500   \n",
       "\n",
       "Date       2020-12-13  2020-12-20  2020-12-27  2021-01-03  \n",
       "Time                                                       \n",
       "Afternoon     9047500     9552500     8790000     3740000  \n",
       "Evening       9000000     9225000     8392500     4070000  \n",
       "Morning       9457500     9097500     8965000     4190000  "
      ]
     },
     "execution_count": 105,
     "metadata": {},
     "output_type": "execute_result"
    }
   ],
   "source": [
    "\n",
    "weekly_date_time_sales"
   ]
  },
  {
   "cell_type": "code",
   "execution_count": 106,
   "id": "985ac514-dbf3-45ba-b270-830eaea8ae5a",
   "metadata": {},
   "outputs": [
    {
     "data": {
      "text/html": [
       "<div>\n",
       "<style scoped>\n",
       "    .dataframe tbody tr th:only-of-type {\n",
       "        vertical-align: middle;\n",
       "    }\n",
       "\n",
       "    .dataframe tbody tr th {\n",
       "        vertical-align: top;\n",
       "    }\n",
       "\n",
       "    .dataframe thead th {\n",
       "        text-align: right;\n",
       "    }\n",
       "</style>\n",
       "<table border=\"1\" class=\"dataframe\">\n",
       "  <thead>\n",
       "    <tr style=\"text-align: right;\">\n",
       "      <th></th>\n",
       "      <th>Date</th>\n",
       "      <th>Time</th>\n",
       "      <th>State</th>\n",
       "      <th>Group</th>\n",
       "      <th>Unit</th>\n",
       "      <th>Sales</th>\n",
       "    </tr>\n",
       "  </thead>\n",
       "  <tbody>\n",
       "    <tr>\n",
       "      <th>0</th>\n",
       "      <td>2020-10-01</td>\n",
       "      <td>Morning</td>\n",
       "      <td>WA</td>\n",
       "      <td>Kids</td>\n",
       "      <td>8</td>\n",
       "      <td>20000</td>\n",
       "    </tr>\n",
       "    <tr>\n",
       "      <th>1</th>\n",
       "      <td>2020-10-01</td>\n",
       "      <td>Morning</td>\n",
       "      <td>WA</td>\n",
       "      <td>Men</td>\n",
       "      <td>8</td>\n",
       "      <td>20000</td>\n",
       "    </tr>\n",
       "    <tr>\n",
       "      <th>2</th>\n",
       "      <td>2020-10-01</td>\n",
       "      <td>Morning</td>\n",
       "      <td>WA</td>\n",
       "      <td>Women</td>\n",
       "      <td>4</td>\n",
       "      <td>10000</td>\n",
       "    </tr>\n",
       "    <tr>\n",
       "      <th>3</th>\n",
       "      <td>2020-10-01</td>\n",
       "      <td>Morning</td>\n",
       "      <td>WA</td>\n",
       "      <td>Seniors</td>\n",
       "      <td>15</td>\n",
       "      <td>37500</td>\n",
       "    </tr>\n",
       "    <tr>\n",
       "      <th>4</th>\n",
       "      <td>2020-10-01</td>\n",
       "      <td>Afternoon</td>\n",
       "      <td>WA</td>\n",
       "      <td>Kids</td>\n",
       "      <td>3</td>\n",
       "      <td>7500</td>\n",
       "    </tr>\n",
       "  </tbody>\n",
       "</table>\n",
       "</div>"
      ],
      "text/plain": [
       "        Date        Time State     Group  Unit  Sales\n",
       "0 2020-10-01     Morning    WA      Kids     8  20000\n",
       "1 2020-10-01     Morning    WA       Men     8  20000\n",
       "2 2020-10-01     Morning    WA     Women     4  10000\n",
       "3 2020-10-01     Morning    WA   Seniors    15  37500\n",
       "4 2020-10-01   Afternoon    WA      Kids     3   7500"
      ]
     },
     "execution_count": 106,
     "metadata": {},
     "output_type": "execute_result"
    }
   ],
   "source": [
    "df.reset_index(inplace=True)\n",
    "df.head()"
   ]
  },
  {
   "cell_type": "code",
   "execution_count": 107,
   "id": "2a9dea63-88da-469b-88a0-f000485b8f09",
   "metadata": {},
   "outputs": [],
   "source": [
    "# Extracting Date And Time parts\n",
    "df['day'] = df['Date'].dt.day_name()\n",
    "df['week'] = df['Date'].dt.isocalendar().week\n",
    "df['month'] = df['Date'].dt.month_name()\n",
    "df['quarter'] = df['Date'].dt.quarter"
   ]
  },
  {
   "cell_type": "code",
   "execution_count": 108,
   "id": "232ad277-53bc-4a55-bbdd-3c65a247cac1",
   "metadata": {},
   "outputs": [
    {
     "data": {
      "text/html": [
       "<div>\n",
       "<style scoped>\n",
       "    .dataframe tbody tr th:only-of-type {\n",
       "        vertical-align: middle;\n",
       "    }\n",
       "\n",
       "    .dataframe tbody tr th {\n",
       "        vertical-align: top;\n",
       "    }\n",
       "\n",
       "    .dataframe thead th {\n",
       "        text-align: right;\n",
       "    }\n",
       "</style>\n",
       "<table border=\"1\" class=\"dataframe\">\n",
       "  <thead>\n",
       "    <tr style=\"text-align: right;\">\n",
       "      <th></th>\n",
       "      <th>Date</th>\n",
       "      <th>Time</th>\n",
       "      <th>State</th>\n",
       "      <th>Group</th>\n",
       "      <th>Unit</th>\n",
       "      <th>Sales</th>\n",
       "      <th>day</th>\n",
       "      <th>week</th>\n",
       "      <th>month</th>\n",
       "      <th>quarter</th>\n",
       "    </tr>\n",
       "  </thead>\n",
       "  <tbody>\n",
       "    <tr>\n",
       "      <th>0</th>\n",
       "      <td>2020-10-01</td>\n",
       "      <td>Morning</td>\n",
       "      <td>WA</td>\n",
       "      <td>Kids</td>\n",
       "      <td>8</td>\n",
       "      <td>20000</td>\n",
       "      <td>Thursday</td>\n",
       "      <td>40</td>\n",
       "      <td>October</td>\n",
       "      <td>4</td>\n",
       "    </tr>\n",
       "    <tr>\n",
       "      <th>1</th>\n",
       "      <td>2020-10-01</td>\n",
       "      <td>Morning</td>\n",
       "      <td>WA</td>\n",
       "      <td>Men</td>\n",
       "      <td>8</td>\n",
       "      <td>20000</td>\n",
       "      <td>Thursday</td>\n",
       "      <td>40</td>\n",
       "      <td>October</td>\n",
       "      <td>4</td>\n",
       "    </tr>\n",
       "    <tr>\n",
       "      <th>2</th>\n",
       "      <td>2020-10-01</td>\n",
       "      <td>Morning</td>\n",
       "      <td>WA</td>\n",
       "      <td>Women</td>\n",
       "      <td>4</td>\n",
       "      <td>10000</td>\n",
       "      <td>Thursday</td>\n",
       "      <td>40</td>\n",
       "      <td>October</td>\n",
       "      <td>4</td>\n",
       "    </tr>\n",
       "    <tr>\n",
       "      <th>3</th>\n",
       "      <td>2020-10-01</td>\n",
       "      <td>Morning</td>\n",
       "      <td>WA</td>\n",
       "      <td>Seniors</td>\n",
       "      <td>15</td>\n",
       "      <td>37500</td>\n",
       "      <td>Thursday</td>\n",
       "      <td>40</td>\n",
       "      <td>October</td>\n",
       "      <td>4</td>\n",
       "    </tr>\n",
       "    <tr>\n",
       "      <th>4</th>\n",
       "      <td>2020-10-01</td>\n",
       "      <td>Afternoon</td>\n",
       "      <td>WA</td>\n",
       "      <td>Kids</td>\n",
       "      <td>3</td>\n",
       "      <td>7500</td>\n",
       "      <td>Thursday</td>\n",
       "      <td>40</td>\n",
       "      <td>October</td>\n",
       "      <td>4</td>\n",
       "    </tr>\n",
       "  </tbody>\n",
       "</table>\n",
       "</div>"
      ],
      "text/plain": [
       "        Date        Time State     Group  Unit  Sales       day  week  \\\n",
       "0 2020-10-01     Morning    WA      Kids     8  20000  Thursday    40   \n",
       "1 2020-10-01     Morning    WA       Men     8  20000  Thursday    40   \n",
       "2 2020-10-01     Morning    WA     Women     4  10000  Thursday    40   \n",
       "3 2020-10-01     Morning    WA   Seniors    15  37500  Thursday    40   \n",
       "4 2020-10-01   Afternoon    WA      Kids     3   7500  Thursday    40   \n",
       "\n",
       "     month  quarter  \n",
       "0  October        4  \n",
       "1  October        4  \n",
       "2  October        4  \n",
       "3  October        4  \n",
       "4  October        4  "
      ]
     },
     "execution_count": 108,
     "metadata": {},
     "output_type": "execute_result"
    }
   ],
   "source": [
    "df.head()"
   ]
  },
  {
   "cell_type": "code",
   "execution_count": 109,
   "id": "b9436215-5cb8-47e1-ab22-022efb1f0a51",
   "metadata": {},
   "outputs": [
    {
     "data": {
      "image/png": "[encoded data removed]",
      "text/plain": [
       "<Figure size 1400x1000 with 4 Axes>"
      ]
     },
     "metadata": {},
     "output_type": "display_data"
    }
   ],
   "source": [
    "fig, ax = plt.subplots(2, 2, figsize=(14, 10))\n",
    "\n",
    "# Daily Sales\n",
    "df.groupby('day')['Sales'].sum().plot(kind='bar', ax=ax[0, 0])\n",
    "ax[0, 0].set_title('Daily Sales')\n",
    "ax[0, 0].set_xlabel('Day of the Week')\n",
    "ax[0, 0].set_ylabel('Sales')\n",
    "\n",
    "# Weekly Sales\n",
    "df.groupby('week')['Sales'].sum().plot(kind='bar', ax=ax[0, 1])\n",
    "ax[0, 1].set_title('Weekly Sales')\n",
    "ax[0, 1].set_xlabel('Week Number')\n",
    "ax[0, 1].set_ylabel('Sales')\n",
    "\n",
    "# Monthly Sales\n",
    "df.groupby('month')['Sales'].sum().plot(kind='bar', ax=ax[1, 0])\n",
    "ax[1, 0].set_title('Monthly Sales')\n",
    "ax[1, 0].set_xlabel('Month')\n",
    "ax[1, 0].set_ylabel('Sales')\n",
    "\n",
    "# Quarterly Sales\n",
    "df.groupby('quarter')['Sales'].sum().plot(kind='bar', ax=ax[1, 1])\n",
    "ax[1, 1].set_title('Quarterly Sales')\n",
    "ax[1, 1].set_xlabel('Quarter')\n",
    "ax[1, 1].set_ylabel('Sales')\n",
    "\n",
    "plt.tight_layout()\n",
    "plt.show()"
   ]
  },
  {
   "cell_type": "markdown",
   "id": "95ea2cb0-1e74-4e89-a3e1-353dab3c469a",
   "metadata": {},
   "source": [
    "# sales remain roughly same through out the week \n",
    "# sales pickuped up after first week but decline in middle for around 5 weeks but picked up near the end of quarter than again declined in last week\n",
    "# sales were low in November compared to the month of october and december"
   ]
  },
  {
   "cell_type": "markdown",
   "id": "e2cfe3bc-5703-4235-a8bc-46899e56b545",
   "metadata": {},
   "source": [
    "##Matplotlib\n",
    "Matplotlib is a low-level, comprehensive library for creating static, animated, and interactive visualizations in Python.\n",
    "\n",
    "Key Features:\n",
    "Versatility: Matplotlib can create a wide variety of plots, including line plots, scatter plots, bar plots, histograms, pie charts, and more.\n",
    "Customization: It offers extensive control over plot elements (titles, labels, legends, grid lines, etc.), allowing for highly customized visualizations.\n",
    "Integration: Works well with other libraries like NumPy and Pandas, making it suitable for embedding plots within larger applications.\n",
    "Publication-Quality: Matplotlib can produce high-quality graphs that are suitable for publication.\n",
    "\n",
    "##Seaborn\n",
    "Seaborn is a higher-level library built on top of Matplotlib, designed to make statistical data visualization easy and attractive.\n",
    "\n",
    "Key Features:\n",
    "Statistical Plots: Provides built-in functions for creating complex visualizations like violin plots, box plots, heatmaps, pair plots, and more.\n",
    "Aesthetic Styles: Offers attractive default styles and color palettes to improve the aesthetics of plots.\n",
    "Ease of Use: Simplifies the creation of common visualizations with concise syntax and easy-to-use functions.\n",
    "Integration with Pandas: Works seamlessly with Pandas DataFrames, allowing for quick visualization of data directly from DataFrames."
   ]
  },
  {
   "cell_type": "code",
   "execution_count": null,
   "id": "31b63cee-e1db-4e96-901b-19c88df8aaa8",
   "metadata": {},
   "outputs": [],
   "source": []
  }
 ],
 "metadata": {
  "kernelspec": {
   "display_name": "Python 3 (ipykernel)",
   "language": "python",
   "name": "python3"
  },
  "language_info": {
   "codemirror_mode": {
    "name": "ipython",
    "version": 3
   },
   "file_extension": ".py",
   "mimetype": "text/x-python",
   "name": "python",
   "nbconvert_exporter": "python",
   "pygments_lexer": "ipython3",
   "version": "3.10.13"
  }
 },
 "nbformat": 4,
 "nbformat_minor": 5
}
